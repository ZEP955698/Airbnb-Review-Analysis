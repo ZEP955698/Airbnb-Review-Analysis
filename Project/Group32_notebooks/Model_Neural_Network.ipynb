{
 "cells": [
  {
   "cell_type": "code",
   "execution_count": 1,
   "metadata": {},
   "outputs": [],
   "source": [
    "# import all libraries \n",
    "import pandas as pd\n",
    "import numpy as np\n",
    "import seaborn as sns\n",
    "import matplotlib.pyplot as plt\n",
    "import math\n",
    "import gensim\n",
    "from textblob import TextBlob\n",
    "from tqdm import tqdm\n",
    "from numpy import log, sqrt\n",
    "\n",
    "import warnings\n",
    "warnings.filterwarnings(\"ignore\")\n",
    "from datetime import datetime"
   ]
  },
  {
   "cell_type": "markdown",
   "metadata": {},
   "source": [
    "## Read Final Dataset"
   ]
  },
  {
   "cell_type": "code",
   "execution_count": 217,
   "metadata": {},
   "outputs": [],
   "source": [
    "df_final = pd.read_feather(\"data/df_final.feather\")"
   ]
  },
  {
   "cell_type": "code",
   "execution_count": 218,
   "metadata": {},
   "outputs": [
    {
     "data": {
      "text/html": [
       "<div>\n",
       "<style scoped>\n",
       "    .dataframe tbody tr th:only-of-type {\n",
       "        vertical-align: middle;\n",
       "    }\n",
       "\n",
       "    .dataframe tbody tr th {\n",
       "        vertical-align: top;\n",
       "    }\n",
       "\n",
       "    .dataframe thead th {\n",
       "        text-align: right;\n",
       "    }\n",
       "</style>\n",
       "<table border=\"1\" class=\"dataframe\">\n",
       "  <thead>\n",
       "    <tr style=\"text-align: right;\">\n",
       "      <th></th>\n",
       "      <th>0</th>\n",
       "      <th>1</th>\n",
       "      <th>2</th>\n",
       "      <th>3</th>\n",
       "      <th>4</th>\n",
       "      <th>5</th>\n",
       "      <th>6</th>\n",
       "      <th>7</th>\n",
       "      <th>8</th>\n",
       "      <th>9</th>\n",
       "      <th>...</th>\n",
       "      <th>42</th>\n",
       "      <th>43</th>\n",
       "      <th>44</th>\n",
       "      <th>45</th>\n",
       "      <th>46</th>\n",
       "      <th>47</th>\n",
       "      <th>48</th>\n",
       "      <th>49</th>\n",
       "      <th>Sentiment</th>\n",
       "      <th>Average score</th>\n",
       "    </tr>\n",
       "  </thead>\n",
       "  <tbody>\n",
       "    <tr>\n",
       "      <td>0</td>\n",
       "      <td>-0.172850</td>\n",
       "      <td>0.054249</td>\n",
       "      <td>1.331955</td>\n",
       "      <td>0.624849</td>\n",
       "      <td>-0.289155</td>\n",
       "      <td>0.352968</td>\n",
       "      <td>-0.168172</td>\n",
       "      <td>-0.026205</td>\n",
       "      <td>0.202216</td>\n",
       "      <td>0.207798</td>\n",
       "      <td>...</td>\n",
       "      <td>-0.409866</td>\n",
       "      <td>0.665558</td>\n",
       "      <td>-1.174518</td>\n",
       "      <td>0.394543</td>\n",
       "      <td>-0.461035</td>\n",
       "      <td>0.561439</td>\n",
       "      <td>0.387918</td>\n",
       "      <td>-0.116501</td>\n",
       "      <td>0.326344</td>\n",
       "      <td>9.500000</td>\n",
       "    </tr>\n",
       "    <tr>\n",
       "      <td>1</td>\n",
       "      <td>-1.000408</td>\n",
       "      <td>-1.492268</td>\n",
       "      <td>1.580612</td>\n",
       "      <td>1.604159</td>\n",
       "      <td>0.080560</td>\n",
       "      <td>2.180467</td>\n",
       "      <td>-0.874364</td>\n",
       "      <td>0.136403</td>\n",
       "      <td>-0.477645</td>\n",
       "      <td>0.127737</td>\n",
       "      <td>...</td>\n",
       "      <td>-0.088430</td>\n",
       "      <td>0.152311</td>\n",
       "      <td>-2.935486</td>\n",
       "      <td>1.093438</td>\n",
       "      <td>1.591154</td>\n",
       "      <td>0.095329</td>\n",
       "      <td>1.272898</td>\n",
       "      <td>-0.357847</td>\n",
       "      <td>0.371526</td>\n",
       "      <td>9.833333</td>\n",
       "    </tr>\n",
       "    <tr>\n",
       "      <td>2</td>\n",
       "      <td>-1.340827</td>\n",
       "      <td>-0.015176</td>\n",
       "      <td>1.288301</td>\n",
       "      <td>1.518229</td>\n",
       "      <td>-0.263480</td>\n",
       "      <td>1.270910</td>\n",
       "      <td>-0.058099</td>\n",
       "      <td>0.376789</td>\n",
       "      <td>-0.109766</td>\n",
       "      <td>0.134260</td>\n",
       "      <td>...</td>\n",
       "      <td>-0.863812</td>\n",
       "      <td>-0.259800</td>\n",
       "      <td>-2.160436</td>\n",
       "      <td>0.234394</td>\n",
       "      <td>1.207856</td>\n",
       "      <td>0.688972</td>\n",
       "      <td>1.361456</td>\n",
       "      <td>-0.100542</td>\n",
       "      <td>0.372972</td>\n",
       "      <td>9.166667</td>\n",
       "    </tr>\n",
       "    <tr>\n",
       "      <td>3</td>\n",
       "      <td>-0.641008</td>\n",
       "      <td>-0.350837</td>\n",
       "      <td>-0.236163</td>\n",
       "      <td>1.827108</td>\n",
       "      <td>0.733946</td>\n",
       "      <td>0.815207</td>\n",
       "      <td>-0.349609</td>\n",
       "      <td>0.291637</td>\n",
       "      <td>-0.944925</td>\n",
       "      <td>0.434456</td>\n",
       "      <td>...</td>\n",
       "      <td>-0.312193</td>\n",
       "      <td>1.007967</td>\n",
       "      <td>-0.990584</td>\n",
       "      <td>0.524995</td>\n",
       "      <td>-0.357787</td>\n",
       "      <td>-0.171655</td>\n",
       "      <td>0.297890</td>\n",
       "      <td>-1.260579</td>\n",
       "      <td>0.405302</td>\n",
       "      <td>9.833333</td>\n",
       "    </tr>\n",
       "    <tr>\n",
       "      <td>4</td>\n",
       "      <td>-2.314118</td>\n",
       "      <td>-0.464722</td>\n",
       "      <td>0.678646</td>\n",
       "      <td>1.288942</td>\n",
       "      <td>0.647862</td>\n",
       "      <td>4.017908</td>\n",
       "      <td>-0.183250</td>\n",
       "      <td>-0.242754</td>\n",
       "      <td>-0.014459</td>\n",
       "      <td>0.183640</td>\n",
       "      <td>...</td>\n",
       "      <td>-1.314451</td>\n",
       "      <td>1.484645</td>\n",
       "      <td>-1.331208</td>\n",
       "      <td>0.995373</td>\n",
       "      <td>0.405309</td>\n",
       "      <td>-1.083297</td>\n",
       "      <td>1.158279</td>\n",
       "      <td>-1.147393</td>\n",
       "      <td>0.356468</td>\n",
       "      <td>10.000000</td>\n",
       "    </tr>\n",
       "  </tbody>\n",
       "</table>\n",
       "<p>5 rows × 52 columns</p>\n",
       "</div>"
      ],
      "text/plain": [
       "          0         1         2         3         4         5         6  \\\n",
       "0 -0.172850  0.054249  1.331955  0.624849 -0.289155  0.352968 -0.168172   \n",
       "1 -1.000408 -1.492268  1.580612  1.604159  0.080560  2.180467 -0.874364   \n",
       "2 -1.340827 -0.015176  1.288301  1.518229 -0.263480  1.270910 -0.058099   \n",
       "3 -0.641008 -0.350837 -0.236163  1.827108  0.733946  0.815207 -0.349609   \n",
       "4 -2.314118 -0.464722  0.678646  1.288942  0.647862  4.017908 -0.183250   \n",
       "\n",
       "          7         8         9  ...        42        43        44        45  \\\n",
       "0 -0.026205  0.202216  0.207798  ... -0.409866  0.665558 -1.174518  0.394543   \n",
       "1  0.136403 -0.477645  0.127737  ... -0.088430  0.152311 -2.935486  1.093438   \n",
       "2  0.376789 -0.109766  0.134260  ... -0.863812 -0.259800 -2.160436  0.234394   \n",
       "3  0.291637 -0.944925  0.434456  ... -0.312193  1.007967 -0.990584  0.524995   \n",
       "4 -0.242754 -0.014459  0.183640  ... -1.314451  1.484645 -1.331208  0.995373   \n",
       "\n",
       "         46        47        48        49  Sentiment  Average score  \n",
       "0 -0.461035  0.561439  0.387918 -0.116501   0.326344       9.500000  \n",
       "1  1.591154  0.095329  1.272898 -0.357847   0.371526       9.833333  \n",
       "2  1.207856  0.688972  1.361456 -0.100542   0.372972       9.166667  \n",
       "3 -0.357787 -0.171655  0.297890 -1.260579   0.405302       9.833333  \n",
       "4  0.405309 -1.083297  1.158279 -1.147393   0.356468      10.000000  \n",
       "\n",
       "[5 rows x 52 columns]"
      ]
     },
     "execution_count": 218,
     "metadata": {},
     "output_type": "execute_result"
    }
   ],
   "source": [
    "df_final.head()"
   ]
  },
  {
   "cell_type": "markdown",
   "metadata": {},
   "source": [
    "## Convert into 0&1 for training in Neural Network"
   ]
  },
  {
   "cell_type": "code",
   "execution_count": 219,
   "metadata": {},
   "outputs": [],
   "source": [
    "def discretization(x):\n",
    "    if x > 6.9: return 1\n",
    "    else: return 0\n",
    "df_final[\"Average score\"] = df_final[\"Average score\"].apply(lambda x: discretization(x))"
   ]
  },
  {
   "cell_type": "code",
   "execution_count": 221,
   "metadata": {},
   "outputs": [],
   "source": [
    "X = df_final.iloc[:, :50]\n",
    "y = df_final.iloc[:,51]"
   ]
  },
  {
   "cell_type": "markdown",
   "metadata": {},
   "source": [
    "## Balance dataset by SMOTE Algorithm"
   ]
  },
  {
   "cell_type": "code",
   "execution_count": 222,
   "metadata": {},
   "outputs": [],
   "source": [
    "from imblearn.over_sampling import SMOTE\n",
    "smote = SMOTE(sampling_strategy=0.4, random_state=32)\n",
    "X_smo, y_smo = smote.fit_sample(X, y)"
   ]
  },
  {
   "cell_type": "code",
   "execution_count": 223,
   "metadata": {},
   "outputs": [],
   "source": [
    "X_smo[\"Review\"] = y_smo"
   ]
  },
  {
   "cell_type": "code",
   "execution_count": 224,
   "metadata": {},
   "outputs": [],
   "source": [
    "df_balanced = X_smo"
   ]
  },
  {
   "cell_type": "code",
   "execution_count": 225,
   "metadata": {},
   "outputs": [
    {
     "data": {
      "text/html": [
       "<div>\n",
       "<style scoped>\n",
       "    .dataframe tbody tr th:only-of-type {\n",
       "        vertical-align: middle;\n",
       "    }\n",
       "\n",
       "    .dataframe tbody tr th {\n",
       "        vertical-align: top;\n",
       "    }\n",
       "\n",
       "    .dataframe thead th {\n",
       "        text-align: right;\n",
       "    }\n",
       "</style>\n",
       "<table border=\"1\" class=\"dataframe\">\n",
       "  <thead>\n",
       "    <tr style=\"text-align: right;\">\n",
       "      <th></th>\n",
       "      <th>0</th>\n",
       "      <th>1</th>\n",
       "      <th>2</th>\n",
       "      <th>3</th>\n",
       "      <th>4</th>\n",
       "      <th>5</th>\n",
       "      <th>6</th>\n",
       "      <th>7</th>\n",
       "      <th>8</th>\n",
       "      <th>9</th>\n",
       "      <th>...</th>\n",
       "      <th>41</th>\n",
       "      <th>42</th>\n",
       "      <th>43</th>\n",
       "      <th>44</th>\n",
       "      <th>45</th>\n",
       "      <th>46</th>\n",
       "      <th>47</th>\n",
       "      <th>48</th>\n",
       "      <th>49</th>\n",
       "      <th>Review</th>\n",
       "    </tr>\n",
       "  </thead>\n",
       "  <tbody>\n",
       "    <tr>\n",
       "      <td>0</td>\n",
       "      <td>-0.172850</td>\n",
       "      <td>0.054249</td>\n",
       "      <td>1.331955</td>\n",
       "      <td>0.624849</td>\n",
       "      <td>-0.289155</td>\n",
       "      <td>0.352968</td>\n",
       "      <td>-0.168172</td>\n",
       "      <td>-0.026205</td>\n",
       "      <td>0.202216</td>\n",
       "      <td>0.207798</td>\n",
       "      <td>...</td>\n",
       "      <td>0.960765</td>\n",
       "      <td>-0.409866</td>\n",
       "      <td>0.665558</td>\n",
       "      <td>-1.174518</td>\n",
       "      <td>0.394543</td>\n",
       "      <td>-0.461035</td>\n",
       "      <td>0.561439</td>\n",
       "      <td>0.387918</td>\n",
       "      <td>-0.116501</td>\n",
       "      <td>1</td>\n",
       "    </tr>\n",
       "    <tr>\n",
       "      <td>1</td>\n",
       "      <td>-1.000408</td>\n",
       "      <td>-1.492268</td>\n",
       "      <td>1.580612</td>\n",
       "      <td>1.604159</td>\n",
       "      <td>0.080560</td>\n",
       "      <td>2.180467</td>\n",
       "      <td>-0.874364</td>\n",
       "      <td>0.136403</td>\n",
       "      <td>-0.477645</td>\n",
       "      <td>0.127737</td>\n",
       "      <td>...</td>\n",
       "      <td>-0.180197</td>\n",
       "      <td>-0.088430</td>\n",
       "      <td>0.152311</td>\n",
       "      <td>-2.935486</td>\n",
       "      <td>1.093438</td>\n",
       "      <td>1.591154</td>\n",
       "      <td>0.095329</td>\n",
       "      <td>1.272898</td>\n",
       "      <td>-0.357847</td>\n",
       "      <td>1</td>\n",
       "    </tr>\n",
       "    <tr>\n",
       "      <td>2</td>\n",
       "      <td>-1.340827</td>\n",
       "      <td>-0.015176</td>\n",
       "      <td>1.288301</td>\n",
       "      <td>1.518229</td>\n",
       "      <td>-0.263480</td>\n",
       "      <td>1.270910</td>\n",
       "      <td>-0.058099</td>\n",
       "      <td>0.376789</td>\n",
       "      <td>-0.109766</td>\n",
       "      <td>0.134260</td>\n",
       "      <td>...</td>\n",
       "      <td>1.028206</td>\n",
       "      <td>-0.863812</td>\n",
       "      <td>-0.259800</td>\n",
       "      <td>-2.160436</td>\n",
       "      <td>0.234394</td>\n",
       "      <td>1.207856</td>\n",
       "      <td>0.688972</td>\n",
       "      <td>1.361456</td>\n",
       "      <td>-0.100542</td>\n",
       "      <td>1</td>\n",
       "    </tr>\n",
       "    <tr>\n",
       "      <td>3</td>\n",
       "      <td>-0.641008</td>\n",
       "      <td>-0.350837</td>\n",
       "      <td>-0.236163</td>\n",
       "      <td>1.827108</td>\n",
       "      <td>0.733946</td>\n",
       "      <td>0.815207</td>\n",
       "      <td>-0.349609</td>\n",
       "      <td>0.291637</td>\n",
       "      <td>-0.944925</td>\n",
       "      <td>0.434456</td>\n",
       "      <td>...</td>\n",
       "      <td>1.034008</td>\n",
       "      <td>-0.312193</td>\n",
       "      <td>1.007967</td>\n",
       "      <td>-0.990584</td>\n",
       "      <td>0.524995</td>\n",
       "      <td>-0.357787</td>\n",
       "      <td>-0.171655</td>\n",
       "      <td>0.297890</td>\n",
       "      <td>-1.260579</td>\n",
       "      <td>1</td>\n",
       "    </tr>\n",
       "    <tr>\n",
       "      <td>4</td>\n",
       "      <td>-2.314118</td>\n",
       "      <td>-0.464722</td>\n",
       "      <td>0.678646</td>\n",
       "      <td>1.288942</td>\n",
       "      <td>0.647862</td>\n",
       "      <td>4.017908</td>\n",
       "      <td>-0.183250</td>\n",
       "      <td>-0.242754</td>\n",
       "      <td>-0.014459</td>\n",
       "      <td>0.183640</td>\n",
       "      <td>...</td>\n",
       "      <td>-0.032328</td>\n",
       "      <td>-1.314451</td>\n",
       "      <td>1.484645</td>\n",
       "      <td>-1.331208</td>\n",
       "      <td>0.995373</td>\n",
       "      <td>0.405309</td>\n",
       "      <td>-1.083297</td>\n",
       "      <td>1.158279</td>\n",
       "      <td>-1.147393</td>\n",
       "      <td>1</td>\n",
       "    </tr>\n",
       "  </tbody>\n",
       "</table>\n",
       "<p>5 rows × 51 columns</p>\n",
       "</div>"
      ],
      "text/plain": [
       "          0         1         2         3         4         5         6  \\\n",
       "0 -0.172850  0.054249  1.331955  0.624849 -0.289155  0.352968 -0.168172   \n",
       "1 -1.000408 -1.492268  1.580612  1.604159  0.080560  2.180467 -0.874364   \n",
       "2 -1.340827 -0.015176  1.288301  1.518229 -0.263480  1.270910 -0.058099   \n",
       "3 -0.641008 -0.350837 -0.236163  1.827108  0.733946  0.815207 -0.349609   \n",
       "4 -2.314118 -0.464722  0.678646  1.288942  0.647862  4.017908 -0.183250   \n",
       "\n",
       "          7         8         9  ...        41        42        43        44  \\\n",
       "0 -0.026205  0.202216  0.207798  ...  0.960765 -0.409866  0.665558 -1.174518   \n",
       "1  0.136403 -0.477645  0.127737  ... -0.180197 -0.088430  0.152311 -2.935486   \n",
       "2  0.376789 -0.109766  0.134260  ...  1.028206 -0.863812 -0.259800 -2.160436   \n",
       "3  0.291637 -0.944925  0.434456  ...  1.034008 -0.312193  1.007967 -0.990584   \n",
       "4 -0.242754 -0.014459  0.183640  ... -0.032328 -1.314451  1.484645 -1.331208   \n",
       "\n",
       "         45        46        47        48        49  Review  \n",
       "0  0.394543 -0.461035  0.561439  0.387918 -0.116501       1  \n",
       "1  1.093438  1.591154  0.095329  1.272898 -0.357847       1  \n",
       "2  0.234394  1.207856  0.688972  1.361456 -0.100542       1  \n",
       "3  0.524995 -0.357787 -0.171655  0.297890 -1.260579       1  \n",
       "4  0.995373  0.405309 -1.083297  1.158279 -1.147393       1  \n",
       "\n",
       "[5 rows x 51 columns]"
      ]
     },
     "execution_count": 225,
     "metadata": {},
     "output_type": "execute_result"
    }
   ],
   "source": [
    "df_balanced.head()"
   ]
  },
  {
   "cell_type": "code",
   "execution_count": 226,
   "metadata": {},
   "outputs": [
    {
     "data": {
      "text/plain": [
       "Counter({1: 209030, 0: 83612})"
      ]
     },
     "execution_count": 226,
     "metadata": {},
     "output_type": "execute_result"
    }
   ],
   "source": [
    "Counter(y_smo)"
   ]
  },
  {
   "cell_type": "code",
   "execution_count": 227,
   "metadata": {},
   "outputs": [],
   "source": [
    "X_b = df_balanced.iloc[:, :50]\n",
    "y_b = df_balanced.iloc[:,50]"
   ]
  },
  {
   "cell_type": "markdown",
   "metadata": {},
   "source": [
    "## Baseline Model"
   ]
  },
  {
   "cell_type": "code",
   "execution_count": 228,
   "metadata": {},
   "outputs": [],
   "source": [
    "from sklearn.model_selection import  train_test_split\n",
    "from sklearn.naive_bayes import GaussianNB\n",
    "from sklearn.metrics import accuracy_score"
   ]
  },
  {
   "cell_type": "markdown",
   "metadata": {},
   "source": [
    "### Before Balance"
   ]
  },
  {
   "cell_type": "code",
   "execution_count": 229,
   "metadata": {},
   "outputs": [
    {
     "name": "stdout",
     "output_type": "stream",
     "text": [
      "Baseline Model: 0.5869\n"
     ]
    }
   ],
   "source": [
    "X_train,X_test,y_train,y_test = train_test_split(X,y,test_size=0.3,random_state=32)\n",
    "gnb = GaussianNB()\n",
    "gnb.fit(X_train,y_train)\n",
    "y_pred = gnb.predict(X_test)\n",
    "print(\"Baseline Model: {:.4f}\".format(accuracy_score(y_test, y_pred)))"
   ]
  },
  {
   "cell_type": "markdown",
   "metadata": {},
   "source": [
    "### After Balance"
   ]
  },
  {
   "cell_type": "code",
   "execution_count": 329,
   "metadata": {},
   "outputs": [
    {
     "name": "stdout",
     "output_type": "stream",
     "text": [
      "Baseline Model(Balanced): 0.6974\n"
     ]
    }
   ],
   "source": [
    "X_train,X_test,y_train,y_test = train_test_split(X_b,y_b,test_size=0.3,random_state=32)\n",
    "gnb = GaussianNB()\n",
    "gnb.fit(X_train,y_train)\n",
    "y_pred = gnb.predict(X_test)\n",
    "print(\"Baseline Model(Balanced): {:.4f}\".format(accuracy_score(y_test, y_pred)))"
   ]
  },
  {
   "cell_type": "markdown",
   "metadata": {},
   "source": [
    "## Neural Network"
   ]
  },
  {
   "cell_type": "code",
   "execution_count": 231,
   "metadata": {},
   "outputs": [],
   "source": [
    "import tensorflow as tf\n",
    "from tensorflow import keras"
   ]
  },
  {
   "cell_type": "code",
   "execution_count": 330,
   "metadata": {},
   "outputs": [],
   "source": [
    "def build_model1():\n",
    "    model = keras.models.Sequential()\n",
    "    model.add(keras.layers.Dense(101,activation='relu',input_shape=([50])))\n",
    "    model.add(keras.layers.Dense(101,activation='relu')) \n",
    "    model.add(keras.layers.Dense(1,activation='sigmoid'))\n",
    "    model.compile(optimizer='rmsprop',\n",
    "                  loss='binary_crossentropy',\n",
    "                  metrics=['accuracy'])\n",
    "    return model\n",
    "model1 = build_model1()"
   ]
  },
  {
   "cell_type": "markdown",
   "metadata": {},
   "source": [
    "### Validation set & Training set"
   ]
  },
  {
   "cell_type": "code",
   "execution_count": 331,
   "metadata": {},
   "outputs": [],
   "source": [
    "X_val = X_train[:50000]\n",
    "X_train = X_train[50000:]\n",
    "y_val = y_train[:50000]\n",
    "y_train = y_train[50000:]"
   ]
  },
  {
   "cell_type": "code",
   "execution_count": 333,
   "metadata": {},
   "outputs": [
    {
     "name": "stdout",
     "output_type": "stream",
     "text": [
      "Epoch 1/100\n",
      "4840/4840 [==============================] - 5s 1ms/step - loss: 0.2057 - accuracy: 0.9138 - val_loss: 0.1873 - val_accuracy: 0.9195\n",
      "Epoch 2/100\n",
      "4840/4840 [==============================] - 5s 1ms/step - loss: 0.1533 - accuracy: 0.9366 - val_loss: 0.1453 - val_accuracy: 0.9404\n",
      "Epoch 3/100\n",
      "4840/4840 [==============================] - 6s 1ms/step - loss: 0.1319 - accuracy: 0.9475 - val_loss: 0.1326 - val_accuracy: 0.9489\n",
      "Epoch 4/100\n",
      "4840/4840 [==============================] - 6s 1ms/step - loss: 0.1170 - accuracy: 0.9545 - val_loss: 0.1197 - val_accuracy: 0.9531\n",
      "Epoch 5/100\n",
      "4840/4840 [==============================] - 5s 1ms/step - loss: 0.1069 - accuracy: 0.9601 - val_loss: 0.1117 - val_accuracy: 0.9577\n",
      "Epoch 6/100\n",
      "4840/4840 [==============================] - 5s 1ms/step - loss: 0.0988 - accuracy: 0.9639 - val_loss: 0.1036 - val_accuracy: 0.9629\n",
      "Epoch 7/100\n",
      "4840/4840 [==============================] - 5s 1ms/step - loss: 0.0932 - accuracy: 0.9665 - val_loss: 0.1132 - val_accuracy: 0.9602\n",
      "Epoch 8/100\n",
      "4840/4840 [==============================] - 6s 1ms/step - loss: 0.0887 - accuracy: 0.9685 - val_loss: 0.1004 - val_accuracy: 0.9659\n",
      "Epoch 9/100\n",
      "4840/4840 [==============================] - 5s 1ms/step - loss: 0.0841 - accuracy: 0.9710 - val_loss: 0.1121 - val_accuracy: 0.9646\n",
      "Epoch 10/100\n",
      "4840/4840 [==============================] - 5s 1ms/step - loss: 0.0816 - accuracy: 0.9721 - val_loss: 0.1060 - val_accuracy: 0.9591\n",
      "Epoch 11/100\n",
      "4840/4840 [==============================] - 6s 1ms/step - loss: 0.0773 - accuracy: 0.9737 - val_loss: 0.1139 - val_accuracy: 0.9635\n",
      "Epoch 12/100\n",
      "4840/4840 [==============================] - 6s 1ms/step - loss: 0.0745 - accuracy: 0.9745 - val_loss: 0.0886 - val_accuracy: 0.9719\n",
      "Epoch 13/100\n",
      "4840/4840 [==============================] - 5s 1ms/step - loss: 0.0714 - accuracy: 0.9759 - val_loss: 0.0952 - val_accuracy: 0.9701\n",
      "Epoch 14/100\n",
      "4840/4840 [==============================] - 5s 1ms/step - loss: 0.0697 - accuracy: 0.9766 - val_loss: 0.0850 - val_accuracy: 0.9721\n",
      "Epoch 15/100\n",
      "4840/4840 [==============================] - 5s 1ms/step - loss: 0.0675 - accuracy: 0.9774 - val_loss: 0.0926 - val_accuracy: 0.9707\n",
      "Epoch 16/100\n",
      "4840/4840 [==============================] - 5s 1ms/step - loss: 0.0654 - accuracy: 0.9783 - val_loss: 0.1003 - val_accuracy: 0.9703\n",
      "Epoch 17/100\n",
      "4840/4840 [==============================] - 5s 1ms/step - loss: 0.0636 - accuracy: 0.9789 - val_loss: 0.0794 - val_accuracy: 0.9764\n",
      "Epoch 18/100\n",
      "4840/4840 [==============================] - 6s 1ms/step - loss: 0.0611 - accuracy: 0.9795 - val_loss: 0.1087 - val_accuracy: 0.9663\n",
      "Epoch 19/100\n",
      "4840/4840 [==============================] - 6s 1ms/step - loss: 0.0618 - accuracy: 0.9799 - val_loss: 0.0837 - val_accuracy: 0.9759\n",
      "Epoch 20/100\n",
      "4840/4840 [==============================] - 6s 1ms/step - loss: 0.0614 - accuracy: 0.9804 - val_loss: 0.0818 - val_accuracy: 0.9752\n",
      "Epoch 21/100\n",
      "4840/4840 [==============================] - 6s 1ms/step - loss: 0.0604 - accuracy: 0.9802 - val_loss: 0.0981 - val_accuracy: 0.9704\n",
      "Epoch 22/100\n",
      "4840/4840 [==============================] - 5s 1ms/step - loss: 0.0593 - accuracy: 0.9810 - val_loss: 0.0885 - val_accuracy: 0.9751\n",
      "Epoch 23/100\n",
      "4840/4840 [==============================] - 6s 1ms/step - loss: 0.0577 - accuracy: 0.9813 - val_loss: 0.0845 - val_accuracy: 0.9761\n",
      "Epoch 24/100\n",
      "4840/4840 [==============================] - 6s 1ms/step - loss: 0.0586 - accuracy: 0.9814 - val_loss: 0.0912 - val_accuracy: 0.9717\n",
      "Epoch 25/100\n",
      "4840/4840 [==============================] - 5s 931us/step - loss: 0.0579 - accuracy: 0.9820 - val_loss: 0.0908 - val_accuracy: 0.9756\n",
      "Epoch 26/100\n",
      "4840/4840 [==============================] - 5s 1ms/step - loss: 0.0567 - accuracy: 0.9823 - val_loss: 0.0824 - val_accuracy: 0.9767\n",
      "Epoch 27/100\n",
      "4840/4840 [==============================] - 6s 1ms/step - loss: 0.0553 - accuracy: 0.9826 - val_loss: 0.1216 - val_accuracy: 0.9684\n",
      "Epoch 28/100\n",
      "4840/4840 [==============================] - 5s 1ms/step - loss: 0.0559 - accuracy: 0.9824 - val_loss: 0.0821 - val_accuracy: 0.9766\n",
      "Epoch 29/100\n",
      "4840/4840 [==============================] - 5s 982us/step - loss: 0.0545 - accuracy: 0.9829 - val_loss: 0.0724 - val_accuracy: 0.9798\n",
      "Epoch 30/100\n",
      "4840/4840 [==============================] - 5s 1ms/step - loss: 0.0555 - accuracy: 0.9829 - val_loss: 0.0938 - val_accuracy: 0.9745\n",
      "Epoch 31/100\n",
      "4840/4840 [==============================] - 5s 967us/step - loss: 0.0547 - accuracy: 0.9834 - val_loss: 0.0892 - val_accuracy: 0.9730\n",
      "Epoch 32/100\n",
      "4840/4840 [==============================] - 5s 1ms/step - loss: 0.0562 - accuracy: 0.9829 - val_loss: 0.0847 - val_accuracy: 0.9775\n",
      "Epoch 33/100\n",
      "4840/4840 [==============================] - 5s 1ms/step - loss: 0.0567 - accuracy: 0.9828 - val_loss: 0.0928 - val_accuracy: 0.9742\n",
      "Epoch 34/100\n",
      "4840/4840 [==============================] - 5s 978us/step - loss: 0.0560 - accuracy: 0.9831 - val_loss: 0.0841 - val_accuracy: 0.9765\n",
      "Epoch 35/100\n",
      "4840/4840 [==============================] - 5s 971us/step - loss: 0.0582 - accuracy: 0.9830 - val_loss: 0.0907 - val_accuracy: 0.9743\n",
      "Epoch 36/100\n",
      "4840/4840 [==============================] - 5s 984us/step - loss: 0.0578 - accuracy: 0.9821 - val_loss: 0.0832 - val_accuracy: 0.9765\n",
      "Epoch 37/100\n",
      "4840/4840 [==============================] - 5s 1ms/step - loss: 0.0599 - accuracy: 0.9820 - val_loss: 0.0773 - val_accuracy: 0.9775\n",
      "Epoch 38/100\n",
      "4840/4840 [==============================] - 6s 1ms/step - loss: 0.0593 - accuracy: 0.9823 - val_loss: 0.0858 - val_accuracy: 0.9770\n",
      "Epoch 39/100\n",
      "4840/4840 [==============================] - 5s 966us/step - loss: 0.0593 - accuracy: 0.9818 - val_loss: 0.0868 - val_accuracy: 0.9752\n",
      "Epoch 40/100\n",
      "4840/4840 [==============================] - 5s 1ms/step - loss: 0.0589 - accuracy: 0.9819 - val_loss: 0.0809 - val_accuracy: 0.9762\n",
      "Epoch 41/100\n",
      "4840/4840 [==============================] - 5s 1ms/step - loss: 0.0579 - accuracy: 0.9822 - val_loss: 0.0875 - val_accuracy: 0.9745\n",
      "Epoch 42/100\n",
      "4840/4840 [==============================] - 5s 987us/step - loss: 0.0586 - accuracy: 0.9819 - val_loss: 0.0835 - val_accuracy: 0.9748\n",
      "Epoch 43/100\n",
      "4840/4840 [==============================] - 5s 1ms/step - loss: 0.0582 - accuracy: 0.9821 - val_loss: 0.0849 - val_accuracy: 0.9746\n",
      "Epoch 44/100\n",
      "4840/4840 [==============================] - 6s 1ms/step - loss: 0.0584 - accuracy: 0.9818 - val_loss: 0.0820 - val_accuracy: 0.9755\n",
      "Epoch 45/100\n",
      "4840/4840 [==============================] - 7s 1ms/step - loss: 0.0582 - accuracy: 0.9817 - val_loss: 0.0792 - val_accuracy: 0.9760\n",
      "Epoch 46/100\n",
      "4840/4840 [==============================] - 7s 1ms/step - loss: 0.0571 - accuracy: 0.9822 - val_loss: 0.0779 - val_accuracy: 0.9760\n",
      "Epoch 47/100\n",
      "4840/4840 [==============================] - 6s 1ms/step - loss: 0.0573 - accuracy: 0.9824 - val_loss: 0.0751 - val_accuracy: 0.9763\n",
      "Epoch 48/100\n",
      "4840/4840 [==============================] - 6s 1ms/step - loss: 0.0573 - accuracy: 0.9824 - val_loss: 0.0778 - val_accuracy: 0.9763\n",
      "Epoch 49/100\n",
      "4840/4840 [==============================] - 6s 1ms/step - loss: 0.0576 - accuracy: 0.9820 - val_loss: 0.0794 - val_accuracy: 0.9762\n",
      "Epoch 50/100\n",
      "4840/4840 [==============================] - 6s 1ms/step - loss: 0.0551 - accuracy: 0.9829 - val_loss: 0.0761 - val_accuracy: 0.9774\n",
      "Epoch 51/100\n",
      "4840/4840 [==============================] - 6s 1ms/step - loss: 0.0546 - accuracy: 0.9829 - val_loss: 0.0777 - val_accuracy: 0.9761\n",
      "Epoch 52/100\n",
      "4840/4840 [==============================] - 6s 1ms/step - loss: 0.0548 - accuracy: 0.9830 - val_loss: 0.0799 - val_accuracy: 0.9749\n",
      "Epoch 53/100\n",
      "4840/4840 [==============================] - 6s 1ms/step - loss: 0.0542 - accuracy: 0.9834 - val_loss: 0.0770 - val_accuracy: 0.9753\n",
      "Epoch 54/100\n",
      "4840/4840 [==============================] - 5s 1ms/step - loss: 0.0537 - accuracy: 0.9837 - val_loss: 0.0788 - val_accuracy: 0.9755\n",
      "Epoch 55/100\n",
      "4840/4840 [==============================] - 5s 1ms/step - loss: 0.0539 - accuracy: 0.9838 - val_loss: 0.0771 - val_accuracy: 0.9762\n",
      "Epoch 56/100\n",
      "4840/4840 [==============================] - 5s 1ms/step - loss: 0.0529 - accuracy: 0.9835 - val_loss: 0.0803 - val_accuracy: 0.9763\n",
      "Epoch 57/100\n",
      "4840/4840 [==============================] - 5s 1ms/step - loss: 0.0513 - accuracy: 0.9844 - val_loss: 0.0762 - val_accuracy: 0.9774\n",
      "Epoch 58/100\n",
      "4840/4840 [==============================] - 5s 1ms/step - loss: 0.0509 - accuracy: 0.9844 - val_loss: 0.0795 - val_accuracy: 0.9763\n",
      "Epoch 59/100\n",
      "4840/4840 [==============================] - 5s 1ms/step - loss: 0.0530 - accuracy: 0.9841 - val_loss: 0.0903 - val_accuracy: 0.9716\n",
      "Epoch 60/100\n",
      "4840/4840 [==============================] - 6s 1ms/step - loss: 0.0521 - accuracy: 0.9844 - val_loss: 0.0857 - val_accuracy: 0.9738\n",
      "Epoch 61/100\n",
      "4840/4840 [==============================] - 6s 1ms/step - loss: 0.0522 - accuracy: 0.9845 - val_loss: 0.0816 - val_accuracy: 0.9766\n",
      "Epoch 62/100\n",
      "4840/4840 [==============================] - 5s 1ms/step - loss: 0.0520 - accuracy: 0.9843 - val_loss: 0.0837 - val_accuracy: 0.9759\n",
      "Epoch 63/100\n",
      "4840/4840 [==============================] - 5s 1ms/step - loss: 0.0525 - accuracy: 0.9844 - val_loss: 0.0786 - val_accuracy: 0.9754\n",
      "Epoch 64/100\n",
      "4840/4840 [==============================] - 6s 1ms/step - loss: 0.0523 - accuracy: 0.9843 - val_loss: 0.0930 - val_accuracy: 0.9728\n",
      "Epoch 65/100\n",
      "4840/4840 [==============================] - 6s 1ms/step - loss: 0.0519 - accuracy: 0.9849 - val_loss: 0.0884 - val_accuracy: 0.9751\n",
      "Epoch 66/100\n",
      "4840/4840 [==============================] - 5s 1ms/step - loss: 0.0513 - accuracy: 0.9853 - val_loss: 0.0875 - val_accuracy: 0.9752\n",
      "Epoch 67/100\n",
      "4840/4840 [==============================] - 5s 991us/step - loss: 0.0499 - accuracy: 0.9853 - val_loss: 0.0801 - val_accuracy: 0.9766\n",
      "Epoch 68/100\n",
      "4840/4840 [==============================] - 5s 973us/step - loss: 0.0503 - accuracy: 0.9853 - val_loss: 0.0876 - val_accuracy: 0.9762\n",
      "Epoch 69/100\n",
      "4840/4840 [==============================] - 5s 1ms/step - loss: 0.0495 - accuracy: 0.9856 - val_loss: 0.0839 - val_accuracy: 0.9759\n",
      "Epoch 70/100\n",
      "4840/4840 [==============================] - 6s 1ms/step - loss: 0.0495 - accuracy: 0.9855 - val_loss: 0.0822 - val_accuracy: 0.9779\n",
      "Epoch 71/100\n",
      "4840/4840 [==============================] - 6s 1ms/step - loss: 0.0490 - accuracy: 0.9860 - val_loss: 0.0831 - val_accuracy: 0.9768\n",
      "Epoch 72/100\n",
      "4840/4840 [==============================] - 6s 1ms/step - loss: 0.0474 - accuracy: 0.9861 - val_loss: 0.0865 - val_accuracy: 0.9768\n",
      "Epoch 73/100\n",
      "4840/4840 [==============================] - 6s 1ms/step - loss: 0.0477 - accuracy: 0.9862 - val_loss: 0.0860 - val_accuracy: 0.9769\n",
      "Epoch 74/100\n",
      "4840/4840 [==============================] - 5s 1ms/step - loss: 0.0473 - accuracy: 0.9866 - val_loss: 0.0763 - val_accuracy: 0.9790\n",
      "Epoch 75/100\n",
      "4840/4840 [==============================] - 5s 1ms/step - loss: 0.0469 - accuracy: 0.9867 - val_loss: 0.0888 - val_accuracy: 0.9764\n",
      "Epoch 76/100\n",
      "4840/4840 [==============================] - 5s 1ms/step - loss: 0.0456 - accuracy: 0.9872 - val_loss: 0.0770 - val_accuracy: 0.9815\n",
      "Epoch 77/100\n",
      "4840/4840 [==============================] - 5s 1ms/step - loss: 0.0456 - accuracy: 0.9869 - val_loss: 0.0771 - val_accuracy: 0.9789\n",
      "Epoch 78/100\n",
      "4840/4840 [==============================] - 5s 1ms/step - loss: 0.0471 - accuracy: 0.9870 - val_loss: 0.0844 - val_accuracy: 0.9768\n",
      "Epoch 79/100\n",
      "4840/4840 [==============================] - 5s 1ms/step - loss: 0.0459 - accuracy: 0.9873 - val_loss: 0.0872 - val_accuracy: 0.9771\n",
      "Epoch 80/100\n",
      "4840/4840 [==============================] - 5s 1ms/step - loss: 0.0455 - accuracy: 0.9872 - val_loss: 0.0750 - val_accuracy: 0.9789\n",
      "Epoch 81/100\n",
      "4840/4840 [==============================] - 5s 1ms/step - loss: 0.0448 - accuracy: 0.9875 - val_loss: 0.0784 - val_accuracy: 0.9798\n",
      "Epoch 82/100\n",
      "4840/4840 [==============================] - 6s 1ms/step - loss: 0.0450 - accuracy: 0.9876 - val_loss: 0.0904 - val_accuracy: 0.9777\n",
      "Epoch 83/100\n",
      "4840/4840 [==============================] - 7s 1ms/step - loss: 0.0461 - accuracy: 0.9876 - val_loss: 0.0821 - val_accuracy: 0.9799\n",
      "Epoch 84/100\n",
      "4840/4840 [==============================] - 8s 2ms/step - loss: 0.0453 - accuracy: 0.9876 - val_loss: 0.0721 - val_accuracy: 0.9808\n",
      "Epoch 85/100\n",
      "4840/4840 [==============================] - 6s 1ms/step - loss: 0.0437 - accuracy: 0.9881 - val_loss: 0.0815 - val_accuracy: 0.9777\n",
      "Epoch 86/100\n",
      "4840/4840 [==============================] - 6s 1ms/step - loss: 0.0437 - accuracy: 0.9881 - val_loss: 0.0878 - val_accuracy: 0.9782\n",
      "Epoch 87/100\n",
      "4840/4840 [==============================] - 6s 1ms/step - loss: 0.0428 - accuracy: 0.9880 - val_loss: 0.0823 - val_accuracy: 0.9782\n",
      "Epoch 88/100\n",
      "4840/4840 [==============================] - 6s 1ms/step - loss: 0.0420 - accuracy: 0.9887 - val_loss: 0.0799 - val_accuracy: 0.9797\n",
      "Epoch 89/100\n",
      "4840/4840 [==============================] - 6s 1ms/step - loss: 0.0434 - accuracy: 0.9886 - val_loss: 0.0823 - val_accuracy: 0.9804\n",
      "Epoch 90/100\n",
      "4840/4840 [==============================] - 6s 1ms/step - loss: 0.0415 - accuracy: 0.9886 - val_loss: 0.0712 - val_accuracy: 0.9804\n",
      "Epoch 91/100\n",
      "4840/4840 [==============================] - 6s 1ms/step - loss: 0.0425 - accuracy: 0.9890 - val_loss: 0.0806 - val_accuracy: 0.9788\n",
      "Epoch 92/100\n",
      "4840/4840 [==============================] - 6s 1ms/step - loss: 0.0411 - accuracy: 0.9891 - val_loss: 0.0755 - val_accuracy: 0.9803\n",
      "Epoch 93/100\n",
      "4840/4840 [==============================] - 6s 1ms/step - loss: 0.0420 - accuracy: 0.9891 - val_loss: 0.0816 - val_accuracy: 0.9792\n",
      "Epoch 94/100\n",
      "4840/4840 [==============================] - 6s 1ms/step - loss: 0.0418 - accuracy: 0.9893 - val_loss: 0.0839 - val_accuracy: 0.9780\n",
      "Epoch 95/100\n",
      "4840/4840 [==============================] - 6s 1ms/step - loss: 0.0411 - accuracy: 0.9895 - val_loss: 0.0844 - val_accuracy: 0.9804\n",
      "Epoch 96/100\n",
      "4840/4840 [==============================] - 5s 1ms/step - loss: 0.0414 - accuracy: 0.9892 - val_loss: 0.0807 - val_accuracy: 0.9792\n",
      "Epoch 97/100\n",
      "4840/4840 [==============================] - 6s 1ms/step - loss: 0.0416 - accuracy: 0.9891 - val_loss: 0.0764 - val_accuracy: 0.9811\n",
      "Epoch 98/100\n",
      "4840/4840 [==============================] - 6s 1ms/step - loss: 0.0398 - accuracy: 0.9896 - val_loss: 0.0806 - val_accuracy: 0.9818\n",
      "Epoch 99/100\n",
      "4840/4840 [==============================] - 5s 1ms/step - loss: 0.0411 - accuracy: 0.9894 - val_loss: 0.0760 - val_accuracy: 0.9822\n",
      "Epoch 100/100\n",
      "4840/4840 [==============================] - 6s 1ms/step - loss: 0.0405 - accuracy: 0.9895 - val_loss: 0.0821 - val_accuracy: 0.9799\n"
     ]
    }
   ],
   "source": [
    "hist = model1.fit(X_train, y_train, epochs=100, validation_data=(X_val,y_val))"
   ]
  },
  {
   "cell_type": "code",
   "execution_count": 334,
   "metadata": {},
   "outputs": [
    {
     "data": {
      "text/plain": [
       "dict_keys(['loss', 'accuracy', 'val_loss', 'val_accuracy'])"
      ]
     },
     "execution_count": 334,
     "metadata": {},
     "output_type": "execute_result"
    }
   ],
   "source": [
    "history_dict = hist.history\n",
    "history_dict.keys()"
   ]
  },
  {
   "cell_type": "code",
   "execution_count": 335,
   "metadata": {},
   "outputs": [
    {
     "data": {
      "text/plain": [
       "<matplotlib.legend.Legend at 0x7fdd2bf5a310>"
      ]
     },
     "execution_count": 335,
     "metadata": {},
     "output_type": "execute_result"
    },
    {
     "data": {
      "image/png": "[encoded data removed]",
      "text/plain": [
       "<Figure size 432x288 with 1 Axes>"
      ]
     },
     "metadata": {
      "needs_background": "light"
     },
     "output_type": "display_data"
    }
   ],
   "source": [
    "loss_values = history_dict['loss']\n",
    "val_loss_values = history_dict['val_loss']\n",
    "epochs = range(1,len(loss_values)+1)\n",
    "plt.plot(epochs,loss_values,'b',label='Training loss')\n",
    "plt.plot(epochs,val_loss_values,'g',label='Validation loss')\n",
    "plt.title('Training & Validation loss')\n",
    "plt.xlabel('Epochs')\n",
    "plt.ylabel('Loss')\n",
    "plt.legend()"
   ]
  },
  {
   "cell_type": "code",
   "execution_count": 336,
   "metadata": {},
   "outputs": [
    {
     "data": {
      "text/plain": [
       "<matplotlib.legend.Legend at 0x7fdd2c2ecad0>"
      ]
     },
     "execution_count": 336,
     "metadata": {},
     "output_type": "execute_result"
    },
    {
     "data": {
      "image/png": "[encoded data removed]",
      "text/plain": [
       "<Figure size 432x288 with 1 Axes>"
      ]
     },
     "metadata": {
      "needs_background": "light"
     },
     "output_type": "display_data"
    }
   ],
   "source": [
    "plt.clf()\n",
    "acc_values = history_dict['accuracy']\n",
    "val_acc_values = history_dict['val_accuracy']\n",
    "plt.plot(epochs,acc_values,'b',label='Training accuracy')\n",
    "plt.plot(epochs,val_acc_values,'g',label='Validation accuracy')\n",
    "plt.title('Training & Validation accuracy')\n",
    "plt.xlabel('Epochs')\n",
    "plt.ylabel('Acc')\n",
    "plt.legend()"
   ]
  },
  {
   "cell_type": "code",
   "execution_count": 291,
   "metadata": {},
   "outputs": [
    {
     "name": "stdout",
     "output_type": "stream",
     "text": [
      "Epoch 1/12\n",
      "6402/6402 [==============================] - 6s 877us/step - loss: 0.1978 - accuracy: 0.9164\n",
      "Epoch 2/12\n",
      "6402/6402 [==============================] - 6s 967us/step - loss: 0.1441 - accuracy: 0.9417\n",
      "Epoch 3/12\n",
      "6402/6402 [==============================] - 6s 973us/step - loss: 0.1211 - accuracy: 0.9529\n",
      "Epoch 4/12\n",
      "6402/6402 [==============================] - 7s 1ms/step - loss: 0.1061 - accuracy: 0.9604\n",
      "Epoch 5/12\n",
      "6402/6402 [==============================] - 6s 893us/step - loss: 0.0965 - accuracy: 0.9651\n",
      "Epoch 6/12\n",
      "6402/6402 [==============================] - 6s 943us/step - loss: 0.0901 - accuracy: 0.9682\n",
      "Epoch 7/12\n",
      "6402/6402 [==============================] - 6s 879us/step - loss: 0.0847 - accuracy: 0.9705\n",
      "Epoch 8/12\n",
      "6402/6402 [==============================] - 6s 878us/step - loss: 0.0809 - accuracy: 0.9721\n",
      "Epoch 9/12\n",
      "6402/6402 [==============================] - 6s 871us/step - loss: 0.0772 - accuracy: 0.9733\n",
      "Epoch 10/12\n",
      "6402/6402 [==============================] - 6s 874us/step - loss: 0.0744 - accuracy: 0.9743\n",
      "Epoch 11/12\n",
      "6402/6402 [==============================] - 6s 873us/step - loss: 0.0711 - accuracy: 0.9757\n",
      "Epoch 12/12\n",
      "6402/6402 [==============================] - 6s 892us/step - loss: 0.0667 - accuracy: 0.9774\n"
     ]
    }
   ],
   "source": [
    "model1.fit(X_train, y_train, epochs=12)"
   ]
  },
  {
   "cell_type": "code",
   "execution_count": 343,
   "metadata": {},
   "outputs": [
    {
     "name": "stdout",
     "output_type": "stream",
     "text": [
      "2744/2744 [==============================] - 2s 658us/step - loss: 0.0552 - accuracy: 0.9859\n"
     ]
    },
    {
     "data": {
      "text/plain": [
       "[0.05518481880426407, 0.9858872294425964]"
      ]
     },
     "execution_count": 343,
     "metadata": {},
     "output_type": "execute_result"
    }
   ],
   "source": [
    "X_train,X_test,y_train,y_test = train_test_split(X_b,y_b,test_size=0.3)\n",
    "model1.evaluate(X_test,y_test)"
   ]
  },
  {
   "cell_type": "markdown",
   "metadata": {},
   "source": [
    "### Convert probability from sigmoid function to labels"
   ]
  },
  {
   "cell_type": "code",
   "execution_count": 262,
   "metadata": {},
   "outputs": [],
   "source": [
    "def discretization1(x):\n",
    "    if x > 0.5: return 1\n",
    "    else: return 0"
   ]
  },
  {
   "cell_type": "code",
   "execution_count": 328,
   "metadata": {},
   "outputs": [
    {
     "name": "stdout",
     "output_type": "stream",
     "text": [
      "              precision    recall  f1-score   support\n",
      "\n",
      "           0       0.94      0.97      0.96     25067\n",
      "           1       0.99      0.98      0.98     62726\n",
      "\n",
      "    accuracy                           0.97     87793\n",
      "   macro avg       0.97      0.97      0.97     87793\n",
      "weighted avg       0.98      0.97      0.97     87793\n",
      "\n"
     ]
    },
    {
     "data": {
      "image/png": "[encoded data removed]",
      "text/plain": [
       "<Figure size 432x288 with 2 Axes>"
      ]
     },
     "metadata": {
      "needs_background": "light"
     },
     "output_type": "display_data"
    }
   ],
   "source": [
    "y_pd=pd.Series(y_pred.tolist()).apply(lambda x: x[0]).apply(lambda x: discretization1(x))\n",
    "print(classification_report(y_test,y_pd))\n",
    "matrix = confusion_matrix(y_test,y_pd)\n",
    "ax = sns.heatmap(matrix, annot = True, fmt='d',xticklabels=['0','1'],yticklabels=['0','1'],cmap='Blues')\n",
    "bottom, top = ax.get_ylim()\n",
    "ax.set_ylim(bottom + 0.5, top - 0.5)\n",
    "plt.title('Confusion Matrix Heatmap')\n",
    "plt.xlabel('Predicted labels')\n",
    "plt.ylabel('Actual labels')\n",
    "plt.show()"
   ]
  }
 ],
 "metadata": {
  "kernelspec": {
   "display_name": "Python 3",
   "language": "python",
   "name": "python3"
  },
  "language_info": {
   "codemirror_mode": {
    "name": "ipython",
    "version": 3
   },
   "file_extension": ".py",
   "mimetype": "text/x-python",
   "name": "python",
   "nbconvert_exporter": "python",
   "pygments_lexer": "ipython3",
   "version": "3.7.4"
  }
 },
 "nbformat": 4,
 "nbformat_minor": 2
}
