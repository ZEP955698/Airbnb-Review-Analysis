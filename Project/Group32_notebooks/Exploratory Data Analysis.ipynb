{
 "cells": [
  {
   "cell_type": "code",
   "execution_count": 1,
   "metadata": {},
   "outputs": [],
   "source": [
    "# import all libraries \n",
    "import pandas as pd\n",
    "import numpy as np\n",
    "import seaborn as sns\n",
    "import matplotlib.pyplot as plt\n",
    "import math\n",
    "import time\n",
    "import warnings\n",
    "warnings.filterwarnings(\"ignore\")\n",
    "from datetime import datetime"
   ]
  },
  {
   "cell_type": "markdown",
   "metadata": {},
   "source": [
    "## Read Datasets"
   ]
  },
  {
   "cell_type": "code",
   "execution_count": 2,
   "metadata": {},
   "outputs": [],
   "source": [
    "rating = pd.read_csv('airbnb_ratings_new.csv',engine = 'python')\n",
    "reviews = pd.read_csv('airbnb-reviews.csv', delimiter=';', skiprows=0, low_memory=False)"
   ]
  },
  {
   "cell_type": "code",
   "execution_count": 3,
   "metadata": {},
   "outputs": [
    {
     "data": {
      "text/html": [
       "<div>\n",
       "<style scoped>\n",
       "    .dataframe tbody tr th:only-of-type {\n",
       "        vertical-align: middle;\n",
       "    }\n",
       "\n",
       "    .dataframe tbody tr th {\n",
       "        vertical-align: top;\n",
       "    }\n",
       "\n",
       "    .dataframe thead th {\n",
       "        text-align: right;\n",
       "    }\n",
       "</style>\n",
       "<table border=\"1\" class=\"dataframe\">\n",
       "  <thead>\n",
       "    <tr style=\"text-align: right;\">\n",
       "      <th></th>\n",
       "      <th>listing_id</th>\n",
       "      <th>id</th>\n",
       "      <th>date</th>\n",
       "      <th>reviewer_id</th>\n",
       "      <th>reviewer_name</th>\n",
       "      <th>comments</th>\n",
       "    </tr>\n",
       "  </thead>\n",
       "  <tbody>\n",
       "    <tr>\n",
       "      <th>0</th>\n",
       "      <td>488835</td>\n",
       "      <td>104522929</td>\n",
       "      <td>2016-09-27</td>\n",
       "      <td>66003975</td>\n",
       "      <td>Carole</td>\n",
       "      <td>First time using Airbnb and couldn't be happie...</td>\n",
       "    </tr>\n",
       "    <tr>\n",
       "      <th>1</th>\n",
       "      <td>549036</td>\n",
       "      <td>37751194</td>\n",
       "      <td>2015-07-10</td>\n",
       "      <td>33501858</td>\n",
       "      <td>Gabi</td>\n",
       "      <td>Muy bien ubicado. Las fotos y la descrpción co...</td>\n",
       "    </tr>\n",
       "    <tr>\n",
       "      <th>2</th>\n",
       "      <td>13546118</td>\n",
       "      <td>112010466</td>\n",
       "      <td>2016-11-03</td>\n",
       "      <td>27252960</td>\n",
       "      <td>Alexis</td>\n",
       "      <td>L'appartement est très sympa.\\r\\nLa chambre qu...</td>\n",
       "    </tr>\n",
       "    <tr>\n",
       "      <th>3</th>\n",
       "      <td>549036</td>\n",
       "      <td>45480519</td>\n",
       "      <td>2015-09-03</td>\n",
       "      <td>38589960</td>\n",
       "      <td>Ewelina</td>\n",
       "      <td>I had really good time in Alex apartment and I...</td>\n",
       "    </tr>\n",
       "    <tr>\n",
       "      <th>4</th>\n",
       "      <td>13546118</td>\n",
       "      <td>137928884</td>\n",
       "      <td>2017-03-18</td>\n",
       "      <td>111268477</td>\n",
       "      <td>Donovan</td>\n",
       "      <td>Place is pretty nice and Sergio was a big help...</td>\n",
       "    </tr>\n",
       "    <tr>\n",
       "      <th>...</th>\n",
       "      <td>...</td>\n",
       "      <td>...</td>\n",
       "      <td>...</td>\n",
       "      <td>...</td>\n",
       "      <td>...</td>\n",
       "      <td>...</td>\n",
       "    </tr>\n",
       "    <tr>\n",
       "      <th>8348168</th>\n",
       "      <td>3102110</td>\n",
       "      <td>135630339</td>\n",
       "      <td>2017-03-05</td>\n",
       "      <td>112572493</td>\n",
       "      <td>Jordan</td>\n",
       "      <td>Super cute place! James and Yuna let us check ...</td>\n",
       "    </tr>\n",
       "    <tr>\n",
       "      <th>8348169</th>\n",
       "      <td>3102110</td>\n",
       "      <td>136124314</td>\n",
       "      <td>2017-03-08</td>\n",
       "      <td>92004669</td>\n",
       "      <td>Diane</td>\n",
       "      <td>Great place. Great hosts.</td>\n",
       "    </tr>\n",
       "    <tr>\n",
       "      <th>8348170</th>\n",
       "      <td>3102110</td>\n",
       "      <td>137148950</td>\n",
       "      <td>2017-03-13</td>\n",
       "      <td>48886823</td>\n",
       "      <td>Jessica</td>\n",
       "      <td>Everything they said was true! It's a nice pla...</td>\n",
       "    </tr>\n",
       "    <tr>\n",
       "      <th>8348171</th>\n",
       "      <td>3102110</td>\n",
       "      <td>144335011</td>\n",
       "      <td>2017-04-15</td>\n",
       "      <td>66082823</td>\n",
       "      <td>Isabel</td>\n",
       "      <td>James and Yuna's place was awesome. They where...</td>\n",
       "    </tr>\n",
       "    <tr>\n",
       "      <th>8348172</th>\n",
       "      <td>13744</td>\n",
       "      <td>291041</td>\n",
       "      <td>2011-05-31</td>\n",
       "      <td>517794</td>\n",
       "      <td>Uwe</td>\n",
       "      <td>A nice appartment in a friendly and quiet neig...</td>\n",
       "    </tr>\n",
       "  </tbody>\n",
       "</table>\n",
       "<p>8348173 rows × 6 columns</p>\n",
       "</div>"
      ],
      "text/plain": [
       "         listing_id         id        date  reviewer_id reviewer_name  \\\n",
       "0            488835  104522929  2016-09-27     66003975        Carole   \n",
       "1            549036   37751194  2015-07-10     33501858          Gabi   \n",
       "2          13546118  112010466  2016-11-03     27252960        Alexis   \n",
       "3            549036   45480519  2015-09-03     38589960       Ewelina   \n",
       "4          13546118  137928884  2017-03-18    111268477       Donovan   \n",
       "...             ...        ...         ...          ...           ...   \n",
       "8348168     3102110  135630339  2017-03-05    112572493        Jordan   \n",
       "8348169     3102110  136124314  2017-03-08     92004669         Diane   \n",
       "8348170     3102110  137148950  2017-03-13     48886823       Jessica   \n",
       "8348171     3102110  144335011  2017-04-15     66082823        Isabel   \n",
       "8348172       13744     291041  2011-05-31       517794           Uwe   \n",
       "\n",
       "                                                  comments  \n",
       "0        First time using Airbnb and couldn't be happie...  \n",
       "1        Muy bien ubicado. Las fotos y la descrpción co...  \n",
       "2        L'appartement est très sympa.\\r\\nLa chambre qu...  \n",
       "3        I had really good time in Alex apartment and I...  \n",
       "4        Place is pretty nice and Sergio was a big help...  \n",
       "...                                                    ...  \n",
       "8348168  Super cute place! James and Yuna let us check ...  \n",
       "8348169                          Great place. Great hosts.  \n",
       "8348170  Everything they said was true! It's a nice pla...  \n",
       "8348171  James and Yuna's place was awesome. They where...  \n",
       "8348172  A nice appartment in a friendly and quiet neig...  \n",
       "\n",
       "[8348173 rows x 6 columns]"
      ]
     },
     "execution_count": 3,
     "metadata": {},
     "output_type": "execute_result"
    }
   ],
   "source": [
    "reviews"
   ]
  },
  {
   "cell_type": "markdown",
   "metadata": {},
   "source": [
    "## Rating"
   ]
  },
  {
   "cell_type": "code",
   "execution_count": 4,
   "metadata": {},
   "outputs": [
    {
     "data": {
      "text/html": [
       "<div>\n",
       "<style scoped>\n",
       "    .dataframe tbody tr th:only-of-type {\n",
       "        vertical-align: middle;\n",
       "    }\n",
       "\n",
       "    .dataframe tbody tr th {\n",
       "        vertical-align: top;\n",
       "    }\n",
       "\n",
       "    .dataframe thead th {\n",
       "        text-align: right;\n",
       "    }\n",
       "</style>\n",
       "<table border=\"1\" class=\"dataframe\">\n",
       "  <thead>\n",
       "    <tr style=\"text-align: right;\">\n",
       "      <th></th>\n",
       "      <th>Listing ID</th>\n",
       "      <th>Host ID</th>\n",
       "      <th>Host total listings count</th>\n",
       "      <th>longitude</th>\n",
       "      <th>Accommodates</th>\n",
       "      <th>Bathrooms</th>\n",
       "      <th>Bedrooms</th>\n",
       "      <th>Price</th>\n",
       "      <th>Minimum nights</th>\n",
       "      <th>Maximum nights</th>\n",
       "      <th>Availability 365</th>\n",
       "      <th>Number of reviews</th>\n",
       "      <th>Review Scores Accuracy</th>\n",
       "      <th>Review Scores Cleanliness</th>\n",
       "      <th>Review Scores Checkin</th>\n",
       "      <th>Review Scores Communication</th>\n",
       "      <th>Review Scores Location</th>\n",
       "      <th>Review Scores Value</th>\n",
       "      <th>Reviews per month</th>\n",
       "    </tr>\n",
       "  </thead>\n",
       "  <tbody>\n",
       "    <tr>\n",
       "      <th>count</th>\n",
       "      <td>5.204380e+05</td>\n",
       "      <td>5.204380e+05</td>\n",
       "      <td>519942.000000</td>\n",
       "      <td>520438.000000</td>\n",
       "      <td>520438.000000</td>\n",
       "      <td>518973.000000</td>\n",
       "      <td>519931.000000</td>\n",
       "      <td>513150.000000</td>\n",
       "      <td>520438.000000</td>\n",
       "      <td>5.204380e+05</td>\n",
       "      <td>520438.000000</td>\n",
       "      <td>520438.000000</td>\n",
       "      <td>407866.000000</td>\n",
       "      <td>408092.000000</td>\n",
       "      <td>407446.000000</td>\n",
       "      <td>407970.000000</td>\n",
       "      <td>407479.000000</td>\n",
       "      <td>407388.000000</td>\n",
       "      <td>413510.000000</td>\n",
       "    </tr>\n",
       "    <tr>\n",
       "      <th>mean</th>\n",
       "      <td>1.042095e+07</td>\n",
       "      <td>3.457765e+07</td>\n",
       "      <td>9.746008</td>\n",
       "      <td>-16.490978</td>\n",
       "      <td>3.331475</td>\n",
       "      <td>1.251377</td>\n",
       "      <td>1.402180</td>\n",
       "      <td>137.714255</td>\n",
       "      <td>3.480762</td>\n",
       "      <td>2.030340e+05</td>\n",
       "      <td>163.292911</td>\n",
       "      <td>17.600043</td>\n",
       "      <td>9.130388</td>\n",
       "      <td>8.941312</td>\n",
       "      <td>9.277585</td>\n",
       "      <td>9.294571</td>\n",
       "      <td>9.061238</td>\n",
       "      <td>8.926304</td>\n",
       "      <td>1.486918</td>\n",
       "    </tr>\n",
       "    <tr>\n",
       "      <th>std</th>\n",
       "      <td>5.740690e+06</td>\n",
       "      <td>3.455218e+07</td>\n",
       "      <td>58.445414</td>\n",
       "      <td>69.752347</td>\n",
       "      <td>2.110578</td>\n",
       "      <td>0.637654</td>\n",
       "      <td>0.921881</td>\n",
       "      <td>148.129479</td>\n",
       "      <td>87.272957</td>\n",
       "      <td>1.978881e+07</td>\n",
       "      <td>141.088154</td>\n",
       "      <td>33.795656</td>\n",
       "      <td>2.111098</td>\n",
       "      <td>2.148533</td>\n",
       "      <td>2.105489</td>\n",
       "      <td>2.098867</td>\n",
       "      <td>2.088753</td>\n",
       "      <td>2.101985</td>\n",
       "      <td>1.751170</td>\n",
       "    </tr>\n",
       "    <tr>\n",
       "      <th>min</th>\n",
       "      <td>6.000000e+00</td>\n",
       "      <td>1.900000e+01</td>\n",
       "      <td>0.000000</td>\n",
       "      <td>-124.419116</td>\n",
       "      <td>1.000000</td>\n",
       "      <td>0.000000</td>\n",
       "      <td>0.000000</td>\n",
       "      <td>0.000000</td>\n",
       "      <td>1.000000</td>\n",
       "      <td>1.000000e+00</td>\n",
       "      <td>0.000000</td>\n",
       "      <td>0.000000</td>\n",
       "      <td>0.000000</td>\n",
       "      <td>0.000000</td>\n",
       "      <td>0.000000</td>\n",
       "      <td>0.000000</td>\n",
       "      <td>0.000000</td>\n",
       "      <td>0.000000</td>\n",
       "      <td>0.000000</td>\n",
       "    </tr>\n",
       "    <tr>\n",
       "      <th>25%</th>\n",
       "      <td>5.657914e+06</td>\n",
       "      <td>7.157975e+06</td>\n",
       "      <td>1.000000</td>\n",
       "      <td>-73.976734</td>\n",
       "      <td>2.000000</td>\n",
       "      <td>1.000000</td>\n",
       "      <td>1.000000</td>\n",
       "      <td>55.000000</td>\n",
       "      <td>1.000000</td>\n",
       "      <td>3.100000e+01</td>\n",
       "      <td>10.000000</td>\n",
       "      <td>1.000000</td>\n",
       "      <td>9.000000</td>\n",
       "      <td>9.000000</td>\n",
       "      <td>10.000000</td>\n",
       "      <td>10.000000</td>\n",
       "      <td>9.000000</td>\n",
       "      <td>9.000000</td>\n",
       "      <td>0.280000</td>\n",
       "    </tr>\n",
       "    <tr>\n",
       "      <th>50%</th>\n",
       "      <td>1.082676e+07</td>\n",
       "      <td>2.288263e+07</td>\n",
       "      <td>1.000000</td>\n",
       "      <td>-0.037670</td>\n",
       "      <td>2.000000</td>\n",
       "      <td>1.000000</td>\n",
       "      <td>1.000000</td>\n",
       "      <td>90.000000</td>\n",
       "      <td>2.000000</td>\n",
       "      <td>1.125000e+03</td>\n",
       "      <td>141.000000</td>\n",
       "      <td>5.000000</td>\n",
       "      <td>10.000000</td>\n",
       "      <td>10.000000</td>\n",
       "      <td>10.000000</td>\n",
       "      <td>10.000000</td>\n",
       "      <td>10.000000</td>\n",
       "      <td>9.000000</td>\n",
       "      <td>0.860000</td>\n",
       "    </tr>\n",
       "    <tr>\n",
       "      <th>75%</th>\n",
       "      <td>1.539711e+07</td>\n",
       "      <td>5.028183e+07</td>\n",
       "      <td>3.000000</td>\n",
       "      <td>12.333586</td>\n",
       "      <td>4.000000</td>\n",
       "      <td>1.000000</td>\n",
       "      <td>2.000000</td>\n",
       "      <td>150.000000</td>\n",
       "      <td>3.000000</td>\n",
       "      <td>1.125000e+03</td>\n",
       "      <td>313.000000</td>\n",
       "      <td>18.000000</td>\n",
       "      <td>10.000000</td>\n",
       "      <td>10.000000</td>\n",
       "      <td>10.000000</td>\n",
       "      <td>10.000000</td>\n",
       "      <td>10.000000</td>\n",
       "      <td>10.000000</td>\n",
       "      <td>2.050000</td>\n",
       "    </tr>\n",
       "    <tr>\n",
       "      <th>max</th>\n",
       "      <td>2.208302e+07</td>\n",
       "      <td>1.611137e+08</td>\n",
       "      <td>1178.000000</td>\n",
       "      <td>153.637837</td>\n",
       "      <td>23.000000</td>\n",
       "      <td>100.000000</td>\n",
       "      <td>15.000000</td>\n",
       "      <td>999.000000</td>\n",
       "      <td>60000.000000</td>\n",
       "      <td>2.147484e+09</td>\n",
       "      <td>365.000000</td>\n",
       "      <td>735.000000</td>\n",
       "      <td>10.000000</td>\n",
       "      <td>10.000000</td>\n",
       "      <td>10.000000</td>\n",
       "      <td>10.000000</td>\n",
       "      <td>10.000000</td>\n",
       "      <td>10.000000</td>\n",
       "      <td>90.000000</td>\n",
       "    </tr>\n",
       "  </tbody>\n",
       "</table>\n",
       "</div>"
      ],
      "text/plain": [
       "         Listing ID       Host ID  Host total listings count      longitude  \\\n",
       "count  5.204380e+05  5.204380e+05              519942.000000  520438.000000   \n",
       "mean   1.042095e+07  3.457765e+07                   9.746008     -16.490978   \n",
       "std    5.740690e+06  3.455218e+07                  58.445414      69.752347   \n",
       "min    6.000000e+00  1.900000e+01                   0.000000    -124.419116   \n",
       "25%    5.657914e+06  7.157975e+06                   1.000000     -73.976734   \n",
       "50%    1.082676e+07  2.288263e+07                   1.000000      -0.037670   \n",
       "75%    1.539711e+07  5.028183e+07                   3.000000      12.333586   \n",
       "max    2.208302e+07  1.611137e+08                1178.000000     153.637837   \n",
       "\n",
       "        Accommodates      Bathrooms       Bedrooms          Price  \\\n",
       "count  520438.000000  518973.000000  519931.000000  513150.000000   \n",
       "mean        3.331475       1.251377       1.402180     137.714255   \n",
       "std         2.110578       0.637654       0.921881     148.129479   \n",
       "min         1.000000       0.000000       0.000000       0.000000   \n",
       "25%         2.000000       1.000000       1.000000      55.000000   \n",
       "50%         2.000000       1.000000       1.000000      90.000000   \n",
       "75%         4.000000       1.000000       2.000000     150.000000   \n",
       "max        23.000000     100.000000      15.000000     999.000000   \n",
       "\n",
       "       Minimum nights  Maximum nights  Availability 365  Number of reviews  \\\n",
       "count   520438.000000    5.204380e+05     520438.000000      520438.000000   \n",
       "mean         3.480762    2.030340e+05        163.292911          17.600043   \n",
       "std         87.272957    1.978881e+07        141.088154          33.795656   \n",
       "min          1.000000    1.000000e+00          0.000000           0.000000   \n",
       "25%          1.000000    3.100000e+01         10.000000           1.000000   \n",
       "50%          2.000000    1.125000e+03        141.000000           5.000000   \n",
       "75%          3.000000    1.125000e+03        313.000000          18.000000   \n",
       "max      60000.000000    2.147484e+09        365.000000         735.000000   \n",
       "\n",
       "       Review Scores Accuracy  Review Scores Cleanliness  \\\n",
       "count           407866.000000              408092.000000   \n",
       "mean                 9.130388                   8.941312   \n",
       "std                  2.111098                   2.148533   \n",
       "min                  0.000000                   0.000000   \n",
       "25%                  9.000000                   9.000000   \n",
       "50%                 10.000000                  10.000000   \n",
       "75%                 10.000000                  10.000000   \n",
       "max                 10.000000                  10.000000   \n",
       "\n",
       "       Review Scores Checkin  Review Scores Communication  \\\n",
       "count          407446.000000                407970.000000   \n",
       "mean                9.277585                     9.294571   \n",
       "std                 2.105489                     2.098867   \n",
       "min                 0.000000                     0.000000   \n",
       "25%                10.000000                    10.000000   \n",
       "50%                10.000000                    10.000000   \n",
       "75%                10.000000                    10.000000   \n",
       "max                10.000000                    10.000000   \n",
       "\n",
       "       Review Scores Location  Review Scores Value  Reviews per month  \n",
       "count           407479.000000        407388.000000      413510.000000  \n",
       "mean                 9.061238             8.926304           1.486918  \n",
       "std                  2.088753             2.101985           1.751170  \n",
       "min                  0.000000             0.000000           0.000000  \n",
       "25%                  9.000000             9.000000           0.280000  \n",
       "50%                 10.000000             9.000000           0.860000  \n",
       "75%                 10.000000            10.000000           2.050000  \n",
       "max                 10.000000            10.000000          90.000000  "
      ]
     },
     "execution_count": 4,
     "metadata": {},
     "output_type": "execute_result"
    }
   ],
   "source": [
    "rating.describe()"
   ]
  },
  {
   "cell_type": "code",
   "execution_count": 5,
   "metadata": {},
   "outputs": [
    {
     "data": {
      "text/plain": [
       "(1048575, 35)"
      ]
     },
     "execution_count": 5,
     "metadata": {},
     "output_type": "execute_result"
    }
   ],
   "source": [
    "rating.shape"
   ]
  },
  {
   "cell_type": "markdown",
   "metadata": {},
   "source": [
    "### Maximum nights"
   ]
  },
  {
   "cell_type": "code",
   "execution_count": 6,
   "metadata": {},
   "outputs": [
    {
     "data": {
      "text/plain": [
       "count    5.204380e+05\n",
       "mean     2.030340e+05\n",
       "std      1.978881e+07\n",
       "min      1.000000e+00\n",
       "25%      3.100000e+01\n",
       "50%      1.125000e+03\n",
       "75%      1.125000e+03\n",
       "max      2.147484e+09\n",
       "Name: Maximum nights, dtype: float64"
      ]
     },
     "execution_count": 6,
     "metadata": {},
     "output_type": "execute_result"
    }
   ],
   "source": [
    "rating['Maximum nights'].describe()"
   ]
  },
  {
   "cell_type": "code",
   "execution_count": 7,
   "metadata": {},
   "outputs": [
    {
     "data": {
      "text/plain": [
       "2147483647.0"
      ]
     },
     "execution_count": 7,
     "metadata": {},
     "output_type": "execute_result"
    }
   ],
   "source": [
    "max(rating['Maximum nights'])"
   ]
  },
  {
   "cell_type": "code",
   "execution_count": 8,
   "metadata": {},
   "outputs": [
    {
     "data": {
      "text/html": [
       "<div>\n",
       "<style scoped>\n",
       "    .dataframe tbody tr th:only-of-type {\n",
       "        vertical-align: middle;\n",
       "    }\n",
       "\n",
       "    .dataframe tbody tr th {\n",
       "        vertical-align: top;\n",
       "    }\n",
       "\n",
       "    .dataframe thead th {\n",
       "        text-align: right;\n",
       "    }\n",
       "</style>\n",
       "<table border=\"1\" class=\"dataframe\">\n",
       "  <thead>\n",
       "    <tr style=\"text-align: right;\">\n",
       "      <th></th>\n",
       "      <th>Maximum nights</th>\n",
       "    </tr>\n",
       "  </thead>\n",
       "  <tbody>\n",
       "    <tr>\n",
       "      <th>(500.0, 1130.0]</th>\n",
       "      <td>330879</td>\n",
       "    </tr>\n",
       "    <tr>\n",
       "      <th>(20.0, 50.0]</th>\n",
       "      <td>58525</td>\n",
       "    </tr>\n",
       "    <tr>\n",
       "      <th>(0.0, 10.0]</th>\n",
       "      <td>48420</td>\n",
       "    </tr>\n",
       "    <tr>\n",
       "      <th>(10.0, 20.0]</th>\n",
       "      <td>33487</td>\n",
       "    </tr>\n",
       "    <tr>\n",
       "      <th>(100.0, 500.0]</th>\n",
       "      <td>24925</td>\n",
       "    </tr>\n",
       "    <tr>\n",
       "      <th>(50.0, 100.0]</th>\n",
       "      <td>23044</td>\n",
       "    </tr>\n",
       "    <tr>\n",
       "      <th>(1130.0, 2147483647.0]</th>\n",
       "      <td>1158</td>\n",
       "    </tr>\n",
       "  </tbody>\n",
       "</table>\n",
       "</div>"
      ],
      "text/plain": [
       "                        Maximum nights\n",
       "(500.0, 1130.0]                 330879\n",
       "(20.0, 50.0]                     58525\n",
       "(0.0, 10.0]                      48420\n",
       "(10.0, 20.0]                     33487\n",
       "(100.0, 500.0]                   24925\n",
       "(50.0, 100.0]                    23044\n",
       "(1130.0, 2147483647.0]            1158"
      ]
     },
     "execution_count": 8,
     "metadata": {},
     "output_type": "execute_result"
    }
   ],
   "source": [
    "bins=np.array([0, 10, 20, 50, 100, 500, 1130,max(rating['Maximum nights'])])\n",
    "night_bins = pd.cut(rating['Maximum nights'],bins)\n",
    "night_bins_count = pd.value_counts(night_bins).to_frame()\n",
    "night_bins_count"
   ]
  },
  {
   "cell_type": "code",
   "execution_count": 9,
   "metadata": {},
   "outputs": [
    {
     "data": {
      "image/png": "[encoded data removed]",
      "text/plain": [
       "<Figure size 1440x720 with 1 Axes>"
      ]
     },
     "metadata": {},
     "output_type": "display_data"
    }
   ],
   "source": [
    "labels = \"0-10\", \"10-20\",\"20-50\",\"50-100\",\"100-500\",\"500-1130\",\">1130\"\n",
    "sizes = [48420,33487,58525,23044,24925,330879,1158]\n",
    "colors=['dodgerblue','orange','mediumseagreen','pink','grey','red', 'black']\n",
    "sum_size = sum(sizes)\n",
    "perce = []\n",
    "for i in range(7):\n",
    "    perce.append((sizes[i]/sum_size)*100)\n",
    "fig1, ax1 = plt.subplots(figsize=(20, 10))\n",
    "ax1.pie(sizes,labels=labels, autopct='%1.0f%%',\n",
    "        colors=colors, startangle=90,\n",
    "        textprops={'fontsize': 0, 'color': 'w'})\n",
    "\n",
    "ax1.axis('equal')\n",
    "plt.legend(loc = 'best', prop={'size': 20}, labels=['%s, %0.2f %%' % (l, s) for l, s in zip(labels, perce)])\n",
    "plt.title('Maximum nights Distribution in Intervals',fontsize=30)\n",
    "\n",
    "plt.show()"
   ]
  },
  {
   "cell_type": "markdown",
   "metadata": {},
   "source": [
    "### Review Scores Value"
   ]
  },
  {
   "cell_type": "code",
   "execution_count": 10,
   "metadata": {},
   "outputs": [
    {
     "data": {
      "text/plain": [
       "count    407388.000000\n",
       "mean          8.926304\n",
       "std           2.101985\n",
       "min           0.000000\n",
       "25%           9.000000\n",
       "50%           9.000000\n",
       "75%          10.000000\n",
       "max          10.000000\n",
       "Name: Review Scores Value, dtype: float64"
      ]
     },
     "execution_count": 10,
     "metadata": {},
     "output_type": "execute_result"
    }
   ],
   "source": [
    "rating['Review Scores Value'].describe()"
   ]
  },
  {
   "cell_type": "code",
   "execution_count": 11,
   "metadata": {},
   "outputs": [
    {
     "data": {
      "text/html": [
       "<div>\n",
       "<style scoped>\n",
       "    .dataframe tbody tr th:only-of-type {\n",
       "        vertical-align: middle;\n",
       "    }\n",
       "\n",
       "    .dataframe tbody tr th {\n",
       "        vertical-align: top;\n",
       "    }\n",
       "\n",
       "    .dataframe thead th {\n",
       "        text-align: right;\n",
       "    }\n",
       "</style>\n",
       "<table border=\"1\" class=\"dataframe\">\n",
       "  <thead>\n",
       "    <tr style=\"text-align: right;\">\n",
       "      <th></th>\n",
       "      <th>Review Scores Value</th>\n",
       "    </tr>\n",
       "  </thead>\n",
       "  <tbody>\n",
       "    <tr>\n",
       "      <th>10.0</th>\n",
       "      <td>198929</td>\n",
       "    </tr>\n",
       "    <tr>\n",
       "      <th>9.0</th>\n",
       "      <td>145231</td>\n",
       "    </tr>\n",
       "    <tr>\n",
       "      <th>8.0</th>\n",
       "      <td>33889</td>\n",
       "    </tr>\n",
       "    <tr>\n",
       "      <th>0.0</th>\n",
       "      <td>17853</td>\n",
       "    </tr>\n",
       "    <tr>\n",
       "      <th>7.0</th>\n",
       "      <td>5142</td>\n",
       "    </tr>\n",
       "    <tr>\n",
       "      <th>6.0</th>\n",
       "      <td>4275</td>\n",
       "    </tr>\n",
       "    <tr>\n",
       "      <th>4.0</th>\n",
       "      <td>894</td>\n",
       "    </tr>\n",
       "    <tr>\n",
       "      <th>2.0</th>\n",
       "      <td>671</td>\n",
       "    </tr>\n",
       "    <tr>\n",
       "      <th>5.0</th>\n",
       "      <td>457</td>\n",
       "    </tr>\n",
       "    <tr>\n",
       "      <th>3.0</th>\n",
       "      <td>47</td>\n",
       "    </tr>\n",
       "  </tbody>\n",
       "</table>\n",
       "</div>"
      ],
      "text/plain": [
       "      Review Scores Value\n",
       "10.0               198929\n",
       "9.0                145231\n",
       "8.0                 33889\n",
       "0.0                 17853\n",
       "7.0                  5142\n",
       "6.0                  4275\n",
       "4.0                   894\n",
       "2.0                   671\n",
       "5.0                   457\n",
       "3.0                    47"
      ]
     },
     "execution_count": 11,
     "metadata": {},
     "output_type": "execute_result"
    }
   ],
   "source": [
    "review_score_count = pd.value_counts(rating['Review Scores Value']).to_frame()\n",
    "review_score_count"
   ]
  },
  {
   "cell_type": "code",
   "execution_count": 12,
   "metadata": {},
   "outputs": [
    {
     "data": {
      "text/plain": [
       "Text(0.5, 1.0, 'Listing Counts at Different Score')"
      ]
     },
     "execution_count": 12,
     "metadata": {},
     "output_type": "execute_result"
    },
    {
     "data": {
      "image/png": "[encoded data removed]",
      "text/plain": [
       "<Figure size 1080x360 with 1 Axes>"
      ]
     },
     "metadata": {
      "needs_background": "light"
     },
     "output_type": "display_data"
    }
   ],
   "source": [
    "fig, ax5 = plt.subplots(figsize=(15, 5))\n",
    "sns.barplot(x = review_score_count.index,y = 'Review Scores Value',data = review_score_count,ax=ax5)\n",
    "plt.xlabel('Review Score',fontsize = 15)\n",
    "plt.ylabel('Counts',fontsize = 15)\n",
    "ax5.set_title('Listing Counts at Different Score',fontsize=20)"
   ]
  },
  {
   "cell_type": "markdown",
   "metadata": {},
   "source": [
    "A majority of Listings have full score 10."
   ]
  },
  {
   "cell_type": "markdown",
   "metadata": {},
   "source": [
    "### Number of Reviews"
   ]
  },
  {
   "cell_type": "code",
   "execution_count": 13,
   "metadata": {},
   "outputs": [
    {
     "data": {
      "text/html": [
       "<div>\n",
       "<style scoped>\n",
       "    .dataframe tbody tr th:only-of-type {\n",
       "        vertical-align: middle;\n",
       "    }\n",
       "\n",
       "    .dataframe tbody tr th {\n",
       "        vertical-align: top;\n",
       "    }\n",
       "\n",
       "    .dataframe thead th {\n",
       "        text-align: right;\n",
       "    }\n",
       "</style>\n",
       "<table border=\"1\" class=\"dataframe\">\n",
       "  <thead>\n",
       "    <tr style=\"text-align: right;\">\n",
       "      <th></th>\n",
       "      <th>Number of reviews</th>\n",
       "    </tr>\n",
       "  </thead>\n",
       "  <tbody>\n",
       "    <tr>\n",
       "      <th>0.0</th>\n",
       "      <td>123409</td>\n",
       "    </tr>\n",
       "    <tr>\n",
       "      <th>1.0</th>\n",
       "      <td>52394</td>\n",
       "    </tr>\n",
       "    <tr>\n",
       "      <th>2.0</th>\n",
       "      <td>35690</td>\n",
       "    </tr>\n",
       "    <tr>\n",
       "      <th>3.0</th>\n",
       "      <td>26473</td>\n",
       "    </tr>\n",
       "    <tr>\n",
       "      <th>4.0</th>\n",
       "      <td>21168</td>\n",
       "    </tr>\n",
       "    <tr>\n",
       "      <th>...</th>\n",
       "      <td>...</td>\n",
       "    </tr>\n",
       "    <tr>\n",
       "      <th>457.0</th>\n",
       "      <td>1</td>\n",
       "    </tr>\n",
       "    <tr>\n",
       "      <th>364.0</th>\n",
       "      <td>1</td>\n",
       "    </tr>\n",
       "    <tr>\n",
       "      <th>461.0</th>\n",
       "      <td>1</td>\n",
       "    </tr>\n",
       "    <tr>\n",
       "      <th>424.0</th>\n",
       "      <td>1</td>\n",
       "    </tr>\n",
       "    <tr>\n",
       "      <th>393.0</th>\n",
       "      <td>1</td>\n",
       "    </tr>\n",
       "  </tbody>\n",
       "</table>\n",
       "<p>474 rows × 1 columns</p>\n",
       "</div>"
      ],
      "text/plain": [
       "       Number of reviews\n",
       "0.0               123409\n",
       "1.0                52394\n",
       "2.0                35690\n",
       "3.0                26473\n",
       "4.0                21168\n",
       "...                  ...\n",
       "457.0                  1\n",
       "364.0                  1\n",
       "461.0                  1\n",
       "424.0                  1\n",
       "393.0                  1\n",
       "\n",
       "[474 rows x 1 columns]"
      ]
     },
     "execution_count": 13,
     "metadata": {},
     "output_type": "execute_result"
    }
   ],
   "source": [
    "review_count = pd.value_counts(rating['Number of reviews']).to_frame()\n",
    "review_count"
   ]
  },
  {
   "cell_type": "code",
   "execution_count": 14,
   "metadata": {},
   "outputs": [
    {
     "data": {
      "text/html": [
       "<div>\n",
       "<style scoped>\n",
       "    .dataframe tbody tr th:only-of-type {\n",
       "        vertical-align: middle;\n",
       "    }\n",
       "\n",
       "    .dataframe tbody tr th {\n",
       "        vertical-align: top;\n",
       "    }\n",
       "\n",
       "    .dataframe thead th {\n",
       "        text-align: right;\n",
       "    }\n",
       "</style>\n",
       "<table border=\"1\" class=\"dataframe\">\n",
       "  <thead>\n",
       "    <tr style=\"text-align: right;\">\n",
       "      <th></th>\n",
       "      <th>Number of reviews</th>\n",
       "    </tr>\n",
       "  </thead>\n",
       "  <tbody>\n",
       "    <tr>\n",
       "      <th>(0, 5]</th>\n",
       "      <td>153802</td>\n",
       "    </tr>\n",
       "    <tr>\n",
       "      <th>(20, 50]</th>\n",
       "      <td>69281</td>\n",
       "    </tr>\n",
       "    <tr>\n",
       "      <th>(10, 20]</th>\n",
       "      <td>62367</td>\n",
       "    </tr>\n",
       "    <tr>\n",
       "      <th>(5, 10]</th>\n",
       "      <td>59993</td>\n",
       "    </tr>\n",
       "    <tr>\n",
       "      <th>(50, 100]</th>\n",
       "      <td>33808</td>\n",
       "    </tr>\n",
       "    <tr>\n",
       "      <th>(100, 800]</th>\n",
       "      <td>17778</td>\n",
       "    </tr>\n",
       "  </tbody>\n",
       "</table>\n",
       "</div>"
      ],
      "text/plain": [
       "            Number of reviews\n",
       "(0, 5]                 153802\n",
       "(20, 50]                69281\n",
       "(10, 20]                62367\n",
       "(5, 10]                 59993\n",
       "(50, 100]               33808\n",
       "(100, 800]              17778"
      ]
     },
     "execution_count": 14,
     "metadata": {},
     "output_type": "execute_result"
    }
   ],
   "source": [
    "bins=np.array([0, 5, 10, 20, 50, 100,800])\n",
    "review_bins = pd.cut(rating['Number of reviews'],bins)\n",
    "review_bins_count = pd.value_counts(review_bins).to_frame()\n",
    "review_bins_count"
   ]
  },
  {
   "cell_type": "code",
   "execution_count": 15,
   "metadata": {},
   "outputs": [
    {
     "data": {
      "image/png": "[encoded data removed]",
      "text/plain": [
       "<Figure size 432x288 with 1 Axes>"
      ]
     },
     "metadata": {
      "needs_background": "light"
     },
     "output_type": "display_data"
    }
   ],
   "source": [
    "ax = review_bins_count.plot.bar(y='Number of reviews', rot=0)\n",
    "ax.set_ylabel(\"Frequency\")\n",
    "ax.set_xlabel(\"Review Counts Interval\")\n",
    "plt.title('Listing Frequency of Review Number interval',fontsize=15)\n",
    "\n",
    "plt.show()"
   ]
  },
  {
   "cell_type": "markdown",
   "metadata": {},
   "source": [
    "## Review"
   ]
  },
  {
   "cell_type": "code",
   "execution_count": 16,
   "metadata": {},
   "outputs": [
    {
     "data": {
      "text/html": [
       "<div>\n",
       "<style scoped>\n",
       "    .dataframe tbody tr th:only-of-type {\n",
       "        vertical-align: middle;\n",
       "    }\n",
       "\n",
       "    .dataframe tbody tr th {\n",
       "        vertical-align: top;\n",
       "    }\n",
       "\n",
       "    .dataframe thead th {\n",
       "        text-align: right;\n",
       "    }\n",
       "</style>\n",
       "<table border=\"1\" class=\"dataframe\">\n",
       "  <thead>\n",
       "    <tr style=\"text-align: right;\">\n",
       "      <th></th>\n",
       "      <th>date</th>\n",
       "    </tr>\n",
       "  </thead>\n",
       "  <tbody>\n",
       "    <tr>\n",
       "      <th>count</th>\n",
       "      <td>8348173</td>\n",
       "    </tr>\n",
       "    <tr>\n",
       "      <th>unique</th>\n",
       "      <td>2988</td>\n",
       "    </tr>\n",
       "    <tr>\n",
       "      <th>top</th>\n",
       "      <td>2017-01-01</td>\n",
       "    </tr>\n",
       "    <tr>\n",
       "      <th>freq</th>\n",
       "      <td>25765</td>\n",
       "    </tr>\n",
       "  </tbody>\n",
       "</table>\n",
       "</div>"
      ],
      "text/plain": [
       "              date\n",
       "count      8348173\n",
       "unique        2988\n",
       "top     2017-01-01\n",
       "freq         25765"
      ]
     },
     "execution_count": 16,
     "metadata": {},
     "output_type": "execute_result"
    }
   ],
   "source": [
    "reviews['date'].describe().to_frame()"
   ]
  },
  {
   "cell_type": "code",
   "execution_count": 17,
   "metadata": {},
   "outputs": [
    {
     "data": {
      "text/html": [
       "<div>\n",
       "<style scoped>\n",
       "    .dataframe tbody tr th:only-of-type {\n",
       "        vertical-align: middle;\n",
       "    }\n",
       "\n",
       "    .dataframe tbody tr th {\n",
       "        vertical-align: top;\n",
       "    }\n",
       "\n",
       "    .dataframe thead th {\n",
       "        text-align: right;\n",
       "    }\n",
       "</style>\n",
       "<table border=\"1\" class=\"dataframe\">\n",
       "  <thead>\n",
       "    <tr style=\"text-align: right;\">\n",
       "      <th></th>\n",
       "      <th>date</th>\n",
       "    </tr>\n",
       "  </thead>\n",
       "  <tbody>\n",
       "    <tr>\n",
       "      <th>2015-09-21</th>\n",
       "      <td>21938</td>\n",
       "    </tr>\n",
       "    <tr>\n",
       "      <th>2016-09-25</th>\n",
       "      <td>20705</td>\n",
       "    </tr>\n",
       "    <tr>\n",
       "      <th>2016-10-09</th>\n",
       "      <td>20806</td>\n",
       "    </tr>\n",
       "    <tr>\n",
       "      <th>2016-10-16</th>\n",
       "      <td>20881</td>\n",
       "    </tr>\n",
       "    <tr>\n",
       "      <th>2016-10-23</th>\n",
       "      <td>21550</td>\n",
       "    </tr>\n",
       "    <tr>\n",
       "      <th>2016-11-13</th>\n",
       "      <td>22956</td>\n",
       "    </tr>\n",
       "    <tr>\n",
       "      <th>2016-11-27</th>\n",
       "      <td>20917</td>\n",
       "    </tr>\n",
       "    <tr>\n",
       "      <th>2017-01-01</th>\n",
       "      <td>25765</td>\n",
       "    </tr>\n",
       "    <tr>\n",
       "      <th>2017-01-02</th>\n",
       "      <td>25024</td>\n",
       "    </tr>\n",
       "    <tr>\n",
       "      <th>2017-03-19</th>\n",
       "      <td>20959</td>\n",
       "    </tr>\n",
       "  </tbody>\n",
       "</table>\n",
       "</div>"
      ],
      "text/plain": [
       "             date\n",
       "2015-09-21  21938\n",
       "2016-09-25  20705\n",
       "2016-10-09  20806\n",
       "2016-10-16  20881\n",
       "2016-10-23  21550\n",
       "2016-11-13  22956\n",
       "2016-11-27  20917\n",
       "2017-01-01  25765\n",
       "2017-01-02  25024\n",
       "2017-03-19  20959"
      ]
     },
     "execution_count": 17,
     "metadata": {},
     "output_type": "execute_result"
    }
   ],
   "source": [
    "# TOP 10\n",
    "date_counts = reviews['date'].value_counts().to_frame()\n",
    "date_count_top10 = date_counts[:10].sort_index()\n",
    "date_count_top10"
   ]
  },
  {
   "cell_type": "code",
   "execution_count": null,
   "metadata": {},
   "outputs": [],
   "source": []
  },
  {
   "cell_type": "code",
   "execution_count": 18,
   "metadata": {},
   "outputs": [
    {
     "data": {
      "text/plain": [
       "Text(0.5, 1.0, 'Number of Orders in each day-Top10')"
      ]
     },
     "execution_count": 18,
     "metadata": {},
     "output_type": "execute_result"
    },
    {
     "data": {
      "image/png": "[encoded data removed]",
      "text/plain": [
       "<Figure size 864x360 with 1 Axes>"
      ]
     },
     "metadata": {
      "needs_background": "light"
     },
     "output_type": "display_data"
    }
   ],
   "source": [
    "fig,ax=plt.subplots(figsize=(12,5))\n",
    "ax.plot(date_count_top10.index,date_count_top10.values,c='r')\n",
    "ax.set_ylabel(\"Number of Orders\")\n",
    "ax.set_xlabel(\"Date\")\n",
    "plt.title('Number of Orders in each day-Top10',fontsize=15)"
   ]
  },
  {
   "cell_type": "code",
   "execution_count": null,
   "metadata": {},
   "outputs": [],
   "source": []
  }
 ],
 "metadata": {
  "kernelspec": {
   "display_name": "Python 3",
   "language": "python",
   "name": "python3"
  },
  "language_info": {
   "codemirror_mode": {
    "name": "ipython",
    "version": 3
   },
   "file_extension": ".py",
   "mimetype": "text/x-python",
   "name": "python",
   "nbconvert_exporter": "python",
   "pygments_lexer": "ipython3",
   "version": "3.8.5"
  }
 },
 "nbformat": 4,
 "nbformat_minor": 4
}
