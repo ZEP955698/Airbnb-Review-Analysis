{
 "cells": [
  {
   "cell_type": "code",
   "execution_count": 1,
   "metadata": {},
   "outputs": [],
   "source": [
    "# import all libraries \n",
    "import pandas as pd\n",
    "import numpy as np\n",
    "import seaborn as sns\n",
    "import matplotlib.pyplot as plt\n",
    "import math\n",
    "import gensim\n",
    "from textblob import TextBlob\n",
    "from tqdm import tqdm\n",
    "from numpy import log, sqrt\n",
    "# For modelling\n",
    "import sklearn.model_selection\n",
    "from sklearn.preprocessing import LabelEncoder\n",
    "from sklearn.metrics import mean_squared_error,r2_score\n",
    "from sklearn.preprocessing import StandardScaler\n",
    "from sklearn.decomposition import PCA\n",
    "from sklearn.model_selection import train_test_split,GridSearchCV,validation_curve,cross_validate,cross_val_score,learning_curve\n",
    "from sklearn.linear_model import SGDClassifier,LogisticRegression\n",
    "from sklearn.metrics import confusion_matrix,classification_report\n",
    "from sklearn.svm import LinearSVC,SVC\n",
    "import warnings\n",
    "warnings.filterwarnings(\"ignore\")\n",
    "from datetime import datetime"
   ]
  },
  {
   "cell_type": "code",
   "execution_count": 2,
   "metadata": {},
   "outputs": [],
   "source": [
    "df_final = pd.read_feather(\"data/df_final.feather\")"
   ]
  },
  {
   "cell_type": "code",
   "execution_count": 3,
   "metadata": {},
   "outputs": [],
   "source": [
    "def discretization(x):\n",
    "    if x > 6.9: return 1\n",
    "    else: return 0\n",
    "\n",
    "df_final[\"Average score\"] = df_final[\"Average score\"].apply(lambda x: discretization(x))"
   ]
  },
  {
   "cell_type": "code",
   "execution_count": 4,
   "metadata": {},
   "outputs": [
    {
     "data": {
      "text/plain": [
       "Counter({1: 209030, 0: 1255})"
      ]
     },
     "execution_count": 4,
     "metadata": {},
     "output_type": "execute_result"
    }
   ],
   "source": [
    "from collections import Counter\n",
    "Counter(df_final[\"Average score\"])"
   ]
  },
  {
   "cell_type": "code",
   "execution_count": 5,
   "metadata": {},
   "outputs": [],
   "source": [
    "X = df_final.iloc[:, :50]\n",
    "y = df_final.iloc[:,51]"
   ]
  },
  {
   "cell_type": "code",
   "execution_count": 6,
   "metadata": {},
   "outputs": [],
   "source": [
    "from imblearn.over_sampling import SMOTE\n",
    "smote = SMOTE(sampling_strategy=0.4, random_state=32)\n",
    "X_smo, y_smo = smote.fit_sample(X, y)"
   ]
  },
  {
   "cell_type": "code",
   "execution_count": 7,
   "metadata": {},
   "outputs": [],
   "source": [
    "X_smo[\"Review\"] = y_smo"
   ]
  },
  {
   "cell_type": "code",
   "execution_count": 8,
   "metadata": {},
   "outputs": [],
   "source": [
    "df_balanced = X_smo"
   ]
  },
  {
   "cell_type": "code",
   "execution_count": 9,
   "metadata": {},
   "outputs": [
    {
     "data": {
      "text/html": [
       "<div>\n",
       "<style scoped>\n",
       "    .dataframe tbody tr th:only-of-type {\n",
       "        vertical-align: middle;\n",
       "    }\n",
       "\n",
       "    .dataframe tbody tr th {\n",
       "        vertical-align: top;\n",
       "    }\n",
       "\n",
       "    .dataframe thead th {\n",
       "        text-align: right;\n",
       "    }\n",
       "</style>\n",
       "<table border=\"1\" class=\"dataframe\">\n",
       "  <thead>\n",
       "    <tr style=\"text-align: right;\">\n",
       "      <th></th>\n",
       "      <th>0</th>\n",
       "      <th>1</th>\n",
       "      <th>2</th>\n",
       "      <th>3</th>\n",
       "      <th>4</th>\n",
       "      <th>5</th>\n",
       "      <th>6</th>\n",
       "      <th>7</th>\n",
       "      <th>8</th>\n",
       "      <th>9</th>\n",
       "      <th>...</th>\n",
       "      <th>41</th>\n",
       "      <th>42</th>\n",
       "      <th>43</th>\n",
       "      <th>44</th>\n",
       "      <th>45</th>\n",
       "      <th>46</th>\n",
       "      <th>47</th>\n",
       "      <th>48</th>\n",
       "      <th>49</th>\n",
       "      <th>Review</th>\n",
       "    </tr>\n",
       "  </thead>\n",
       "  <tbody>\n",
       "    <tr>\n",
       "      <th>0</th>\n",
       "      <td>-0.172850</td>\n",
       "      <td>0.054249</td>\n",
       "      <td>1.331955</td>\n",
       "      <td>0.624849</td>\n",
       "      <td>-0.289155</td>\n",
       "      <td>0.352968</td>\n",
       "      <td>-0.168172</td>\n",
       "      <td>-0.026205</td>\n",
       "      <td>0.202216</td>\n",
       "      <td>0.207798</td>\n",
       "      <td>...</td>\n",
       "      <td>0.960765</td>\n",
       "      <td>-0.409866</td>\n",
       "      <td>0.665558</td>\n",
       "      <td>-1.174518</td>\n",
       "      <td>0.394543</td>\n",
       "      <td>-0.461035</td>\n",
       "      <td>0.561439</td>\n",
       "      <td>0.387918</td>\n",
       "      <td>-0.116501</td>\n",
       "      <td>1</td>\n",
       "    </tr>\n",
       "    <tr>\n",
       "      <th>1</th>\n",
       "      <td>-1.000408</td>\n",
       "      <td>-1.492268</td>\n",
       "      <td>1.580612</td>\n",
       "      <td>1.604159</td>\n",
       "      <td>0.080560</td>\n",
       "      <td>2.180467</td>\n",
       "      <td>-0.874364</td>\n",
       "      <td>0.136403</td>\n",
       "      <td>-0.477645</td>\n",
       "      <td>0.127737</td>\n",
       "      <td>...</td>\n",
       "      <td>-0.180197</td>\n",
       "      <td>-0.088430</td>\n",
       "      <td>0.152311</td>\n",
       "      <td>-2.935486</td>\n",
       "      <td>1.093438</td>\n",
       "      <td>1.591154</td>\n",
       "      <td>0.095329</td>\n",
       "      <td>1.272898</td>\n",
       "      <td>-0.357847</td>\n",
       "      <td>1</td>\n",
       "    </tr>\n",
       "    <tr>\n",
       "      <th>2</th>\n",
       "      <td>-1.340827</td>\n",
       "      <td>-0.015176</td>\n",
       "      <td>1.288301</td>\n",
       "      <td>1.518229</td>\n",
       "      <td>-0.263480</td>\n",
       "      <td>1.270910</td>\n",
       "      <td>-0.058099</td>\n",
       "      <td>0.376789</td>\n",
       "      <td>-0.109766</td>\n",
       "      <td>0.134260</td>\n",
       "      <td>...</td>\n",
       "      <td>1.028206</td>\n",
       "      <td>-0.863812</td>\n",
       "      <td>-0.259800</td>\n",
       "      <td>-2.160436</td>\n",
       "      <td>0.234394</td>\n",
       "      <td>1.207856</td>\n",
       "      <td>0.688972</td>\n",
       "      <td>1.361456</td>\n",
       "      <td>-0.100542</td>\n",
       "      <td>1</td>\n",
       "    </tr>\n",
       "    <tr>\n",
       "      <th>3</th>\n",
       "      <td>-0.641008</td>\n",
       "      <td>-0.350837</td>\n",
       "      <td>-0.236163</td>\n",
       "      <td>1.827108</td>\n",
       "      <td>0.733946</td>\n",
       "      <td>0.815207</td>\n",
       "      <td>-0.349609</td>\n",
       "      <td>0.291637</td>\n",
       "      <td>-0.944925</td>\n",
       "      <td>0.434456</td>\n",
       "      <td>...</td>\n",
       "      <td>1.034008</td>\n",
       "      <td>-0.312193</td>\n",
       "      <td>1.007967</td>\n",
       "      <td>-0.990584</td>\n",
       "      <td>0.524995</td>\n",
       "      <td>-0.357787</td>\n",
       "      <td>-0.171655</td>\n",
       "      <td>0.297890</td>\n",
       "      <td>-1.260579</td>\n",
       "      <td>1</td>\n",
       "    </tr>\n",
       "    <tr>\n",
       "      <th>4</th>\n",
       "      <td>-2.314118</td>\n",
       "      <td>-0.464722</td>\n",
       "      <td>0.678646</td>\n",
       "      <td>1.288942</td>\n",
       "      <td>0.647862</td>\n",
       "      <td>4.017908</td>\n",
       "      <td>-0.183250</td>\n",
       "      <td>-0.242754</td>\n",
       "      <td>-0.014459</td>\n",
       "      <td>0.183640</td>\n",
       "      <td>...</td>\n",
       "      <td>-0.032328</td>\n",
       "      <td>-1.314451</td>\n",
       "      <td>1.484645</td>\n",
       "      <td>-1.331208</td>\n",
       "      <td>0.995373</td>\n",
       "      <td>0.405309</td>\n",
       "      <td>-1.083297</td>\n",
       "      <td>1.158279</td>\n",
       "      <td>-1.147393</td>\n",
       "      <td>1</td>\n",
       "    </tr>\n",
       "  </tbody>\n",
       "</table>\n",
       "<p>5 rows × 51 columns</p>\n",
       "</div>"
      ],
      "text/plain": [
       "          0         1         2         3         4         5         6  \\\n",
       "0 -0.172850  0.054249  1.331955  0.624849 -0.289155  0.352968 -0.168172   \n",
       "1 -1.000408 -1.492268  1.580612  1.604159  0.080560  2.180467 -0.874364   \n",
       "2 -1.340827 -0.015176  1.288301  1.518229 -0.263480  1.270910 -0.058099   \n",
       "3 -0.641008 -0.350837 -0.236163  1.827108  0.733946  0.815207 -0.349609   \n",
       "4 -2.314118 -0.464722  0.678646  1.288942  0.647862  4.017908 -0.183250   \n",
       "\n",
       "          7         8         9  ...        41        42        43        44  \\\n",
       "0 -0.026205  0.202216  0.207798  ...  0.960765 -0.409866  0.665558 -1.174518   \n",
       "1  0.136403 -0.477645  0.127737  ... -0.180197 -0.088430  0.152311 -2.935486   \n",
       "2  0.376789 -0.109766  0.134260  ...  1.028206 -0.863812 -0.259800 -2.160436   \n",
       "3  0.291637 -0.944925  0.434456  ...  1.034008 -0.312193  1.007967 -0.990584   \n",
       "4 -0.242754 -0.014459  0.183640  ... -0.032328 -1.314451  1.484645 -1.331208   \n",
       "\n",
       "         45        46        47        48        49  Review  \n",
       "0  0.394543 -0.461035  0.561439  0.387918 -0.116501       1  \n",
       "1  1.093438  1.591154  0.095329  1.272898 -0.357847       1  \n",
       "2  0.234394  1.207856  0.688972  1.361456 -0.100542       1  \n",
       "3  0.524995 -0.357787 -0.171655  0.297890 -1.260579       1  \n",
       "4  0.995373  0.405309 -1.083297  1.158279 -1.147393       1  \n",
       "\n",
       "[5 rows x 51 columns]"
      ]
     },
     "execution_count": 9,
     "metadata": {},
     "output_type": "execute_result"
    }
   ],
   "source": [
    "df_balanced.head()"
   ]
  },
  {
   "cell_type": "code",
   "execution_count": 10,
   "metadata": {},
   "outputs": [],
   "source": [
    "X_b = df_balanced.iloc[:, :50]\n",
    "y_b = df_balanced.iloc[:,50]"
   ]
  },
  {
   "cell_type": "code",
   "execution_count": 11,
   "metadata": {},
   "outputs": [],
   "source": [
    "X_train,X_test,y_train,y_test = train_test_split(X_b,y_b,test_size=0.3,random_state=32)"
   ]
  },
  {
   "cell_type": "code",
   "execution_count": 12,
   "metadata": {},
   "outputs": [
    {
     "name": "stdout",
     "output_type": "stream",
     "text": [
      "Fitting 5 folds for each of 16 candidates, totalling 80 fits\n"
     ]
    },
    {
     "name": "stderr",
     "output_type": "stream",
     "text": [
      "[Parallel(n_jobs=-1)]: Using backend LokyBackend with 8 concurrent workers.\n",
      "[Parallel(n_jobs=-1)]: Done   2 tasks      | elapsed:    3.8s\n",
      "[Parallel(n_jobs=-1)]: Done   9 tasks      | elapsed:    6.1s\n",
      "[Parallel(n_jobs=-1)]: Done  16 tasks      | elapsed:    9.9s\n",
      "[Parallel(n_jobs=-1)]: Done  25 tasks      | elapsed:   13.6s\n",
      "[Parallel(n_jobs=-1)]: Done  34 tasks      | elapsed:   18.0s\n",
      "[Parallel(n_jobs=-1)]: Done  45 tasks      | elapsed:   23.0s\n",
      "[Parallel(n_jobs=-1)]: Done  56 tasks      | elapsed:   27.5s\n",
      "[Parallel(n_jobs=-1)]: Done  74 out of  80 | elapsed:   35.6s remaining:    2.9s\n",
      "[Parallel(n_jobs=-1)]: Done  80 out of  80 | elapsed:   36.5s finished\n"
     ]
    },
    {
     "name": "stdout",
     "output_type": "stream",
     "text": [
      "Best score: 0.813\n",
      "Best parameters set:\n",
      "\tC: 0.5\n",
      "\tmulti_class: 'multinomial'\n"
     ]
    }
   ],
   "source": [
    "# using gridsearch to find optimal hyperparameter of Logistic Regression\n",
    "param_grid_lr = {\n",
    "    'C' : [0.01,0.1,0.5,5,10,20,50,100],\n",
    "    'multi_class':['multinomial','ovr'],\n",
    " \n",
    "}\n",
    "\n",
    "# Create grid search object\n",
    "if __name__ == \"__main__\":\n",
    "    grids_lr = GridSearchCV(LogisticRegression(solver='lbfgs'), param_grid = param_grid_lr, cv = 5, verbose=10, n_jobs=-1)\n",
    "\n",
    "# Fit on data\n",
    "    best_grids_lr = grids_lr.fit(X_train, y_train)\n",
    "    print(\"Best score: %0.3f\" % best_grids_lr.best_score_)\n",
    "    print(\"Best parameters set:\")\n",
    "    best_parameters = best_grids_lr.best_estimator_.get_params()\n",
    "    for param_name in sorted(param_grid_lr.keys()):\n",
    "        print(\"\\t%s: %r\" % (param_name, best_parameters[param_name]))"
   ]
  },
  {
   "cell_type": "code",
   "execution_count": 13,
   "metadata": {},
   "outputs": [
    {
     "data": {
      "image/png": "[encoded data removed]",
      "text/plain": [
       "<Figure size 432x288 with 2 Axes>"
      ]
     },
     "metadata": {
      "needs_background": "light"
     },
     "output_type": "display_data"
    }
   ],
   "source": [
    "# visualizing results of gridsearch of hyperparameters in Logistic Regression\n",
    "lr_score = grids_lr.cv_results_['mean_test_score'].reshape(8,2)\n",
    "sns.heatmap(lr_score,xticklabels=param_grid_lr['multi_class'],yticklabels=param_grid_lr['C'],cmap=\"YlGnBu\")\n",
    "plt.title('Gridsearch of Hyperparameters in Logistic Regression')\n",
    "plt.xlabel('multi_class')\n",
    "plt.ylabel('C')\n",
    "plt.show()"
   ]
  },
  {
   "cell_type": "code",
   "execution_count": 14,
   "metadata": {},
   "outputs": [
    {
     "data": {
      "text/plain": [
       "(0.8125936665543888, 0.8118756620687299)"
      ]
     },
     "execution_count": 14,
     "metadata": {},
     "output_type": "execute_result"
    }
   ],
   "source": [
    "# fitting optimal hyperparameter to the model\n",
    "lr = LogisticRegression(C=0.5,solver='lbfgs',multi_class='multinomial').fit(X_train,y_train)\n",
    "lr.score(X_train,y_train),lr.score(X_test,y_test)"
   ]
  },
  {
   "cell_type": "code",
   "execution_count": 15,
   "metadata": {},
   "outputs": [
    {
     "name": "stdout",
     "output_type": "stream",
     "text": [
      "              precision    recall  f1-score   support\n",
      "\n",
      "           0       0.70      0.60      0.65     25067\n",
      "           1       0.85      0.90      0.87     62726\n",
      "\n",
      "    accuracy                           0.81     87793\n",
      "   macro avg       0.77      0.75      0.76     87793\n",
      "weighted avg       0.81      0.81      0.81     87793\n",
      "\n"
     ]
    },
    {
     "data": {
      "image/png": "[encoded data removed]",
      "text/plain": [
       "<Figure size 432x288 with 2 Axes>"
      ]
     },
     "metadata": {
      "needs_background": "light"
     },
     "output_type": "display_data"
    }
   ],
   "source": [
    "lr_pre = lr.predict(X_test)\n",
    "print(classification_report(y_test,lr_pre))\n",
    "matrix_lr = confusion_matrix(y_test,lr_pre)\n",
    "sns.heatmap(matrix_lr, annot = True, fmt='d',xticklabels=['0','1'],yticklabels=['0','1'],cmap='Blues')\n",
    "plt.title('LR Confusion Matrix Heatmap')\n",
    "plt.xlabel('Predicted labels')\n",
    "plt.ylabel('Actual labels')\n",
    "plt.show()"
   ]
  },
  {
   "cell_type": "code",
   "execution_count": 16,
   "metadata": {},
   "outputs": [],
   "source": [
    "# https://scikit-learn.org/0.16/auto_examples/model_selection/plot_learning_curve.html\n",
    "# function to draw learning curve\n",
    "##############################################################################\n",
    "def plot_learning_curve(estimator, title, X, y, cv=5,\n",
    "                        n_jobs=1, train_sizes=np.linspace(0.1, 1.0, 5),verbose=10):\n",
    "    \"\"\"\n",
    "    Generate a simple plot of the test and traning learning curve.\n",
    "\n",
    "    Parameters\n",
    "    ----------\n",
    "    estimator : object type that implements the \"fit\" and \"predict\" methods\n",
    "        An object of that type which is cloned for each validation.\n",
    "\n",
    "    title : string\n",
    "        Title for the chart.\n",
    "\n",
    "    X : array-like, shape (n_samples, n_features)\n",
    "        Training vector, where n_samples is the number of samples and\n",
    "        n_features is the number of features.\n",
    "\n",
    "    y : array-like, shape (n_samples) or (n_samples, n_features), optional\n",
    "        Target relative to X for classification or regression;\n",
    "        None for unsupervised learning.\n",
    "\n",
    "    ylim : tuple, shape (ymin, ymax), optional\n",
    "        Defines minimum and maximum yvalues plotted.\n",
    "\n",
    "    cv : integer, cross-validation generator, optional\n",
    "        If an integer is passed, it is the number of folds (defaults to 3).\n",
    "        Specific cross-validation objects can be passed, see\n",
    "        sklearn.cross_validation module for the list of possible objects\n",
    "\n",
    "    n_jobs : integer, optional\n",
    "        Number of jobs to run in parallel (default 1).\n",
    "    \"\"\"\n",
    "    plt.figure()\n",
    "    plt.title(title)\n",
    "    plt.xlabel(\"Training examples\")\n",
    "    plt.ylabel(\"Accuracy\")\n",
    "\n",
    "    train_sizes, train_scores, test_scores = learning_curve(\n",
    "        estimator, X, y, cv=cv, n_jobs=n_jobs, train_sizes=train_sizes)\n",
    "   \n",
    "    \n",
    "    train_scores_mean = np.mean(train_scores, axis=1)\n",
    "    train_scores_std = np.std(train_scores, axis=1)\n",
    "    test_scores_mean = np.mean(test_scores, axis=1)\n",
    "    test_scores_std = np.std(test_scores, axis=1)\n",
    "    plt.grid()\n",
    "    plt.plot(train_sizes, train_scores_mean, color=\"r\",\n",
    "                     label=\"Training score\")\n",
    "    plt.fill_between(train_sizes, train_scores_mean - train_scores_std,\n",
    "                     train_scores_mean + train_scores_std, alpha=0.2,\n",
    "                     color=\"r\")\n",
    "    plt.fill_between(train_sizes, test_scores_mean - test_scores_std,\n",
    "                     test_scores_mean + test_scores_std, alpha=0.2, color=\"g\")\n",
    "    \n",
    "    plt.plot(train_sizes, test_scores_mean,color=\"g\",label=\"Test score\")\n",
    "    \n",
    "    plt.legend(loc=\"best\")\n",
    "    return plt"
   ]
  },
  {
   "cell_type": "code",
   "execution_count": 17,
   "metadata": {},
   "outputs": [
    {
     "data": {
      "text/plain": [
       "<module 'matplotlib.pyplot' from '/Users/weishiwen/opt/anaconda3/lib/python3.8/site-packages/matplotlib/pyplot.py'>"
      ]
     },
     "execution_count": 17,
     "metadata": {},
     "output_type": "execute_result"
    },
    {
     "data": {
      "image/png": "[encoded data removed]",
      "text/plain": [
       "<Figure size 432x288 with 1 Axes>"
      ]
     },
     "metadata": {
      "needs_background": "light"
     },
     "output_type": "display_data"
    }
   ],
   "source": [
    "plot_learning_curve(LogisticRegression(C=10,solver='lbfgs',multi_class='multinomial'), 'LogisticRegression(C=0.5,solver=lbfgs,multi_class=multinomial)', X_train, y_train, cv=5, n_jobs=-1, train_sizes=np.linspace(0.1, 1.0, 5))"
   ]
  },
  {
   "cell_type": "code",
   "execution_count": 18,
   "metadata": {},
   "outputs": [],
   "source": [
    "pred_train = lr.predict(X_train)\n",
    "pred_test = lr.predict(X_test)"
   ]
  },
  {
   "cell_type": "code",
   "execution_count": 20,
   "metadata": {},
   "outputs": [
    {
     "name": "stdout",
     "output_type": "stream",
     "text": [
      "Sensitivity for Logistic Regression Model = 0.896231227879986\n",
      "Specificity for Logistic Regression Model = 0.6007898831132564\n"
     ]
    }
   ],
   "source": [
    "cm = confusion_matrix(y_test,pred_test)\n",
    "#Extract TN, FP, FN,TP values\n",
    "TN, FP, FN, TP = confusion_matrix(y_test,pred_test).ravel()\n",
    "sensitivity_score_dc = TP/(FN+TP)\n",
    "specificity_score_dc = TN/(TN+FP)\n",
    "print('Sensitivity for Logistic Regression Model = %s' %(sensitivity_score_dc))\n",
    "print('Specificity for Logistic Regression Model = %s' %(specificity_score_dc))  "
   ]
  },
  {
   "cell_type": "code",
   "execution_count": null,
   "metadata": {},
   "outputs": [],
   "source": []
  }
 ],
 "metadata": {
  "kernelspec": {
   "display_name": "Python 3",
   "language": "python",
   "name": "python3"
  },
  "language_info": {
   "codemirror_mode": {
    "name": "ipython",
    "version": 3
   },
   "file_extension": ".py",
   "mimetype": "text/x-python",
   "name": "python",
   "nbconvert_exporter": "python",
   "pygments_lexer": "ipython3",
   "version": "3.8.3"
  }
 },
 "nbformat": 4,
 "nbformat_minor": 4
}
